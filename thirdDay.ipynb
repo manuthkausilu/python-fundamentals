{
 "cells": [
  {
   "cell_type": "code",
   "execution_count": null,
   "id": "f1906e73",
   "metadata": {},
   "outputs": [
    {
     "name": "stdout",
     "output_type": "stream",
     "text": [
      "10 is the largest number\n"
     ]
    }
   ],
   "source": [
    "#write a program to find the largest between three numbers.\n",
    "\n",
    "num_1 = 1\n",
    "num_2 = 10\n",
    "num_3 = 7\n",
    "\n",
    "if num_1 > num_2 and num_1 > num_3:\n",
    "    print(f\"{num_1} is the largest number\")\n",
    "elif num_2 > num_1 and num_2 > num_3:\n",
    "    print(f\"{num_2} is the largest number\")\n",
    "else:\n",
    "    print(f\"{num_3} is the largest number\")    "
   ]
  },
  {
   "cell_type": "code",
   "execution_count": null,
   "id": "7bcd9458",
   "metadata": {},
   "outputs": [
    {
     "name": "stdout",
     "output_type": "stream",
     "text": [
      "[10, 7, 1]\n",
      "10 7 1\n"
     ]
    }
   ],
   "source": [
    "# slightly modify the above code to display the numbers in descending order.\n",
    "\n",
    "num_1 = 1\n",
    "num_2 = 10\n",
    "num_3 = 7\n",
    "\n",
    "# 1st answer\n",
    "numbers = [num_1, num_2, num_3]\n",
    "numbers.sort(reverse=True)\n",
    "print(numbers)\n",
    "\n",
    "# 2nd answer\n",
    "if num_1 > num_2 and num_1 > num_3:\n",
    "    if num_2 > num_3:\n",
    "        print(num_1, num_2, num_3)\n",
    "    else:\n",
    "        print(num_1, num_3, num_2)    \n",
    "elif num_2 > num_1 and num_2 > num_3:\n",
    "    if num_1 > num_3:\n",
    "        print(num_2, num_1, num_3)\n",
    "    else:\n",
    "        print(num_2, num_3, num_1)    \n",
    "else:\n",
    "    if num_1 > num_2:\n",
    "        print(num_3, num_1, num_2)\n",
    "    else:\n",
    "        print(num_3, num_2, num_1)             "
   ]
  },
  {
   "cell_type": "code",
   "execution_count": 11,
   "id": "80acb2d7",
   "metadata": {},
   "outputs": [
    {
     "name": "stdout",
     "output_type": "stream",
     "text": [
      "x is odd\n",
      "None\n"
     ]
    }
   ],
   "source": [
    "x = 11\n",
    "\n",
    "result = \"x is even\" if x % 2 == 0 else print(\"x is odd\")\n",
    "print(result)"
   ]
  },
  {
   "cell_type": "code",
   "execution_count": null,
   "id": "bf5f837f",
   "metadata": {},
   "outputs": [
    {
     "name": "stdout",
     "output_type": "stream",
     "text": [
      "The absolute value of is {5}\n"
     ]
    }
   ],
   "source": [
    "# given any integer n, print if absolute value using a ternary operator(without using abs function) \n",
    "\n",
    "n = -5\n",
    "abs_value = n if n >= 0 else -n\n",
    "print(\"The absolute value of is\",{abs_value})"
   ]
  },
  {
   "cell_type": "code",
   "execution_count": 21,
   "id": "454a2242",
   "metadata": {},
   "outputs": [
    {
     "name": "stdout",
     "output_type": "stream",
     "text": [
      "Variable is 1\n"
     ]
    }
   ],
   "source": [
    "variable = 1\n",
    "match variable:\n",
    "    case 1:\n",
    "        print(\"Variable is 1\")\n",
    "    case 5:\n",
    "        print(\"Variable is 2\")\n",
    "    case 10:\n",
    "        print(\"Variable is 10\")\n",
    "    case _:\n",
    "        print(\"Variable is something else\")            "
   ]
  },
  {
   "cell_type": "code",
   "execution_count": 33,
   "id": "89401c7b",
   "metadata": {},
   "outputs": [
    {
     "name": "stdout",
     "output_type": "stream",
     "text": [
      "Monday\n"
     ]
    }
   ],
   "source": [
    "# write a program that takes an integer input from the user represents in the weekday and prints the corresponding weekday\n",
    "#  name using match case statement.\n",
    "\n",
    "day = int(input(\"Enter a number between 1 and 7: \"))\n",
    "\n",
    "match day:\n",
    "    case 1:\n",
    "        print(\"Monday\")\n",
    "    case 2: \n",
    "        print(\"Tuesday\")\n",
    "    case 3:\n",
    "        print(\"Wednesday\")\n",
    "    case 4:\n",
    "        print(\"Thursday\")\n",
    "    case 5:\n",
    "        print(\"Friday\")\n",
    "    case 6:\n",
    "        print(\"Saturday\")\n",
    "    case 7:\n",
    "        print(\"Sunday\")\n",
    "    case _:\n",
    "        print(\"Invalid day number. Please enter a number between 1 and 7.\")"
   ]
  },
  {
   "cell_type": "code",
   "execution_count": 42,
   "id": "3305242c",
   "metadata": {},
   "outputs": [
    {
     "name": "stdout",
     "output_type": "stream",
     "text": [
      "Stop\n"
     ]
    }
   ],
   "source": [
    "# write a program that takes an input string referecent in a traffic light color, red,green or yellow and prints the \n",
    "# corresponding action using match case statement.use structural pattern matching to display the action.\n",
    "\n",
    "# print stop for red or blinking\n",
    "# print slow down if color is yellow\n",
    "# print go if color is green\n",
    "# print invalid color for any other input\n",
    "\n",
    "traffic_light = input(\"Enter the traffic light color (red, yellow, green): \").lower()\n",
    "\n",
    "match traffic_light:\n",
    "    case \"red\" | \"blinking\":\n",
    "        print(\"Stop\")\n",
    "    case \"yellow\":  \n",
    "        print(\"Slow down\")\n",
    "    case \"green\":\n",
    "        print(\"Go\")\n",
    "    case _:\n",
    "        print(\"Invalid color\")"
   ]
  },
  {
   "cell_type": "code",
   "execution_count": null,
   "id": "e5aa94e1",
   "metadata": {},
   "outputs": [
    {
     "name": "stdout",
     "output_type": "stream",
     "text": [
      "12\n"
     ]
    }
   ],
   "source": [
    "numbers = [4,3,7]\n",
    "\n",
    "match numbers:\n",
    "    case [x, y]:\n",
    "        print(x * y)\n",
    "    case [x, y, z]:\n",
    "        print(x + y + z)\n",
    "    case _: \n",
    "        print(\"List must contain 2 or 3 elements\")"
   ]
  },
  {
   "cell_type": "code",
   "execution_count": 49,
   "id": "e6b4dc2a",
   "metadata": {},
   "outputs": [
    {
     "name": "stdout",
     "output_type": "stream",
     "text": [
      "Difference:  8\n"
     ]
    }
   ],
   "source": [
    "# write a  python program that takes a list of temperatures,\n",
    "\n",
    "# if the list has exactly 2 elements, print their average.\n",
    "# if the list has exactly 4 elements, calculate and print the difference between the sum of the first two and the sum of the last two.\n",
    "# for any other print \"unsupperted number of reading\"\n",
    "\n",
    "temperatures = [30, 32, 28, 26]\n",
    "\n",
    "match temperatures:\n",
    "    case [x, y]:\n",
    "        print(\"Average temperature: \",(x + y) / 2)\n",
    "    case [x, y, z, w]:\n",
    "        print(\"Difference: \",(x + y) - (z + w))\n",
    "    case _:\n",
    "        print(\"Unsupported number of readings\")"
   ]
  },
  {
   "cell_type": "code",
   "execution_count": 52,
   "id": "3accdd80",
   "metadata": {},
   "outputs": [
    {
     "name": "stdout",
     "output_type": "stream",
     "text": [
      "22\n",
      "14\n",
      "8\n"
     ]
    }
   ],
   "source": [
    "# write a python program to display even numbers of the below list,\n",
    "\n",
    "my_list = [7,22,14,9,8,21,13]\n",
    "\n",
    "for number in my_list:\n",
    "    if number % 2 == 0:\n",
    "        print(number)\n",
    "        "
   ]
  },
  {
   "cell_type": "code",
   "execution_count": 69,
   "id": "bec8a64d",
   "metadata": {},
   "outputs": [
    {
     "name": "stdout",
     "output_type": "stream",
     "text": [
      "1\n",
      "2\n",
      "3\n",
      "4\n",
      "5\n",
      "6\n",
      "7\n",
      "8\n",
      "9\n",
      "10\n",
      "11\n",
      "12\n",
      "13\n",
      "14\n"
     ]
    }
   ],
   "source": [
    "# using a for loop, display all positive integers which are below 15\n",
    "\n",
    "for i in range(1,15,1):\n",
    "        print(i)"
   ]
  },
  {
   "cell_type": "code",
   "execution_count": 85,
   "id": "c70f6391",
   "metadata": {},
   "outputs": [
    {
     "name": "stdout",
     "output_type": "stream",
     "text": [
      "[100, 25, 81, 16, 4]\n"
     ]
    }
   ],
   "source": [
    "# write a program to create a new list with the square values of each number of the below list\n",
    "\n",
    "my_list = [10,5,9,4,2] \n",
    "\n",
    "square_list = []\n",
    "\n",
    "for number in my_list:\n",
    "    square_list.append(number ** 2)\n",
    "print(square_list)"
   ]
  },
  {
   "cell_type": "code",
   "execution_count": 127,
   "id": "a9d4af7c",
   "metadata": {},
   "outputs": [],
   "source": [
    "# write a program to display all positive multifies of 7 which are below than the user input number(you should check the\n",
    "# input validity as well)\n",
    "\n",
    "user_input = int(input(\"Enter a positive integer: \"))\n",
    "\n",
    "if user_input <= 0 :\n",
    "     print(\"Please enter a positive integer.\")\n",
    "else:\n",
    "    for i in range(7, user_input,7):\n",
    "        print(i)"
   ]
  },
  {
   "cell_type": "code",
   "execution_count": 158,
   "id": "91092686",
   "metadata": {},
   "outputs": [
    {
     "name": "stdout",
     "output_type": "stream",
     "text": [
      "9  found \n"
     ]
    }
   ],
   "source": [
    "# write a program to demonstrate the linear search algorithm.\n",
    "\n",
    "my_list = [10, 5, 9, 4, 2]\n",
    "\n",
    "target = 9\n",
    "\n",
    "is_found = False;\n",
    "\n",
    "for value in my_list:\n",
    "    if value == target:\n",
    "        is_found = True\n",
    "        print(target,\" found \")\n",
    "        break\n",
    "\n",
    "# if  is_found == False:\n",
    "if not is_found:\n",
    "    print(target, \" not found in the list\")        \n",
    "        "
   ]
  },
  {
   "cell_type": "code",
   "execution_count": 161,
   "id": "a2e14019",
   "metadata": {},
   "outputs": [
    {
     "name": "stdout",
     "output_type": "stream",
     "text": [
      "11  not found in the list\n"
     ]
    }
   ],
   "source": [
    "my_list = [10, 5, 9, 4, 2]\n",
    "\n",
    "target = 11\n",
    "\n",
    "for value in my_list:\n",
    "    if value == target:\n",
    "        is_found = True\n",
    "        print(target,\" found \")\n",
    "        break\n",
    "else:\n",
    "    print(target, \" not found in the list\")\n"
   ]
  },
  {
   "cell_type": "code",
   "execution_count": null,
   "id": "f2792489",
   "metadata": {},
   "outputs": [],
   "source": [
    "my_list = [10, 5, 4, 8, 12]\n",
    "\n",
    "sq_list = [ item ** 2 for item in my_list if item % 2 == 0] # list comprehension\n"
   ]
  },
  {
   "cell_type": "code",
   "execution_count": 174,
   "id": "2092d34e",
   "metadata": {},
   "outputs": [
    {
     "name": "stdout",
     "output_type": "stream",
     "text": [
      "1\n",
      "2\n",
      "4\n",
      "8\n",
      "END\n"
     ]
    }
   ],
   "source": [
    "# write a program that prints all powers of 2(starting from 1) that are less than or equal to a given input integer N using a while loop\n",
    "\n",
    "# eg: if N = 20 , output should be: 1 2 4 8 16\n",
    "\n",
    "N = int(input(\"Enter Number : \"))\n",
    "\n",
    "power = 1\n",
    "\n",
    "while N >= power:\n",
    "    print(power)\n",
    "    power *= 2\n",
    "else:\n",
    "    print(\"END\")"
   ]
  },
  {
   "cell_type": "code",
   "execution_count": 3,
   "id": "e16e3902",
   "metadata": {},
   "outputs": [
    {
     "name": "stdout",
     "output_type": "stream",
     "text": [
      "Total sum: 10\n",
      "Total sum: 21\n",
      "Total sum: 43\n",
      "Total sum: 98\n"
     ]
    }
   ],
   "source": [
    "# write a program that repeatedly takes integer inputs from the user and adds them to a total sum. The programe should continue untill the user entered zero.\n",
    "# finally print the total sum\n",
    "\n",
    "total = 0\n",
    "\n",
    "while True:\n",
    "    user_input = int(input(\"Enter a number (0 to stop): \"))\n",
    "    if user_input == 0:\n",
    "        break\n",
    "    total += user_input\n",
    "    print(\"Total sum:\", total)\n",
    "\n",
    "    \n",
    " "
   ]
  },
  {
   "cell_type": "code",
   "execution_count": null,
   "id": "7f7d9a17",
   "metadata": {},
   "outputs": [],
   "source": []
  }
 ],
 "metadata": {
  "kernelspec": {
   "display_name": "Python 3",
   "language": "python",
   "name": "python3"
  },
  "language_info": {
   "codemirror_mode": {
    "name": "ipython",
    "version": 3
   },
   "file_extension": ".py",
   "mimetype": "text/x-python",
   "name": "python",
   "nbconvert_exporter": "python",
   "pygments_lexer": "ipython3",
   "version": "3.13.3"
  }
 },
 "nbformat": 4,
 "nbformat_minor": 5
}
