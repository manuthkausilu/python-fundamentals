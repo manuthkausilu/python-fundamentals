{
 "cells": [
  {
   "cell_type": "code",
   "execution_count": 3,
   "id": "b3b68194",
   "metadata": {},
   "outputs": [
    {
     "name": "stdout",
     "output_type": "stream",
     "text": [
      "0\n",
      "Animal speaks\n"
     ]
    }
   ],
   "source": [
    "class Animal:\n",
    "    \n",
    "    age = 0 \n",
    "\n",
    "    def speak(self):\n",
    "        print (\"Animal speaks\")\n",
    "    \n",
    "class Dog(Animal):\n",
    "\n",
    "    def display_info(self):\n",
    "        print(\"I'm an instance of Dog class\") \n",
    "\n",
    "\n",
    "\n",
    "dog_1 = Dog()\n",
    "print(dog_1.age) # output: 0 (inherited from Animal class) \n",
    "dog_1.speak() # output: Animal speaks (inherited from Animal class)\n"
   ]
  },
  {
   "cell_type": "code",
   "execution_count": null,
   "id": "ae48c410",
   "metadata": {},
   "outputs": [
    {
     "name": "stdout",
     "output_type": "stream",
     "text": [
      "0\n",
      "Barking\n"
     ]
    }
   ],
   "source": [
    "class Animal:\n",
    "    \n",
    "    age = 0 \n",
    "\n",
    "    def speak(self):\n",
    "        print (\"Animal speaks\")\n",
    "    \n",
    "class Dog(Animal):\n",
    "    \n",
    "    def speak(self):\n",
    "        print(\"Barking\")\n",
    "\n",
    "    def display_info(self):\n",
    "        print(\"I'm an instance of Dog class\") \n",
    "\n",
    "\n",
    "\n",
    "dog_1 = Dog()\n",
    "print(dog_1.age) # output: 0 (inherited from Animal class) \n",
    "dog_1.speak() # output: Barking (overridden method in Dog class)"
   ]
  },
  {
   "cell_type": "code",
   "execution_count": 10,
   "id": "619b6d56",
   "metadata": {},
   "outputs": [
    {
     "name": "stdout",
     "output_type": "stream",
     "text": [
      "0\n",
      "Dog Barking\n"
     ]
    }
   ],
   "source": [
    "class Animal:\n",
    "    \n",
    "    age = 0 \n",
    "\n",
    "    def __init__(self,color):\n",
    "        self.color = color\n",
    "\n",
    "    def speak(self):\n",
    "        print (\"Animal speaks\")\n",
    "    \n",
    "class Dog(Animal):\n",
    "    \n",
    "    def speak(self):\n",
    "        print(\"Dog Barking\")\n",
    "\n",
    "    def display_info(self):\n",
    "        print(\"I'm an instance of Dog class\") \n",
    "\n",
    "\n",
    "\n",
    "dog_1 = Dog('brown')\n",
    "print(dog_1.age) # output: 0 (inherited from Animal class) \n",
    "dog_1.speak() # output: Barking (overridden method in Dog class)"
   ]
  },
  {
   "cell_type": "code",
   "execution_count": 13,
   "id": "feb53022",
   "metadata": {},
   "outputs": [
    {
     "name": "stdout",
     "output_type": "stream",
     "text": [
      "Buddy\n",
      "Brown\n"
     ]
    }
   ],
   "source": [
    "class Animal:\n",
    "\n",
    "    def __init__(self, name):\n",
    "        self.name = name\n",
    "    \n",
    "class Dog(Animal):\n",
    "\n",
    "    def __init__(self, name, color):\n",
    "        super().__init__(name)  # Call the constructor of the parent class\n",
    "        self.color = color\n",
    "\n",
    "    def display_info(self):\n",
    "        print(f\"Dog Name: {self.name}, color: {self.color}\")   \n",
    "\n",
    "\n",
    "dog_1 = Dog('Buddy', 'Brown')\n",
    "print(dog_1.name)  # Output: Buddy\n",
    "print(dog_1.color)  # Output: Brown        "
   ]
  },
  {
   "cell_type": "code",
   "execution_count": 25,
   "id": "f83e3a80",
   "metadata": {},
   "outputs": [
    {
     "name": "stdout",
     "output_type": "stream",
     "text": [
      "Name: Manuth, Salary: 50000, Department: IT\n"
     ]
    }
   ],
   "source": [
    "# Define a Base class called 'Employee' that has attributes 'name' and 'salary' it should have a method called 'display_info' \n",
    "# that prints the name and salary of the employee. Then create a derived class called 'Manager' that inherits from Employee.\n",
    "# Add an extra attribute called 'department' and override the 'display_info' method in the Manager class to include the department \n",
    "# information as well. Finally write the python program to create an object and the manager class,called the display info method using \n",
    "# that object.\n",
    "\n",
    "class Employee:\n",
    "    name = ''\n",
    "    salary = 0\n",
    "\n",
    "    def __init__(self, name, salary):\n",
    "        self.name = name\n",
    "        self.salary = salary\n",
    "\n",
    "    def display_info(self):\n",
    "        print(f\"Name: {self.name}, Salary: {self.salary},\", end=' ')\n",
    "\n",
    "class Manager(Employee):\n",
    "    department = ''\n",
    "\n",
    "    def __init__(self, name, salary, department):\n",
    "        super().__init__(name, salary) \n",
    "        self.department = department\n",
    "\n",
    "    def display_info(self):\n",
    "        super().display_info() \n",
    "        print(f\"Department: {self.department}\")    \n",
    "\n",
    "\n",
    "manager_1 = Manager('Manuth', 50000, 'IT')\n",
    "manager_1.display_info()  "
   ]
  },
  {
   "cell_type": "code",
   "execution_count": null,
   "id": "e27f92c2",
   "metadata": {},
   "outputs": [
    {
     "ename": "AttributeError",
     "evalue": "'Car' object has no attribute 'brand'",
     "output_type": "error",
     "traceback": [
      "\u001b[31m---------------------------------------------------------------------------\u001b[39m",
      "\u001b[31mAttributeError\u001b[39m                            Traceback (most recent call last)",
      "\u001b[36mCell\u001b[39m\u001b[36m \u001b[39m\u001b[32mIn[34]\u001b[39m\u001b[32m, line 12\u001b[39m\n\u001b[32m      9\u001b[39m         \u001b[38;5;28mprint\u001b[39m(\u001b[33mf\u001b[39m\u001b[33m\"\u001b[39m\u001b[33mBrand: \u001b[39m\u001b[38;5;132;01m{\u001b[39;00m\u001b[38;5;28mself\u001b[39m.__brand\u001b[38;5;132;01m}\u001b[39;00m\u001b[33m, Color: \u001b[39m\u001b[38;5;132;01m{\u001b[39;00m\u001b[38;5;28mself\u001b[39m.__color\u001b[38;5;132;01m}\u001b[39;00m\u001b[33m\"\u001b[39m)\n\u001b[32m     11\u001b[39m car_1 = Car(\u001b[33m'\u001b[39m\u001b[33mToyota\u001b[39m\u001b[33m'\u001b[39m, \u001b[33m'\u001b[39m\u001b[33mRed\u001b[39m\u001b[33m'\u001b[39m)\n\u001b[32m---> \u001b[39m\u001b[32m12\u001b[39m \u001b[38;5;28mprint\u001b[39m(\u001b[43mcar_1\u001b[49m\u001b[43m.\u001b[49m\u001b[43mbrand\u001b[49m)  \u001b[38;5;66;03m# Output: Toyota\u001b[39;00m\n\u001b[32m     13\u001b[39m car_1.display_info()  \u001b[38;5;66;03m# Output: Brand: Toyota, Color: Red\u001b[39;00m\n",
      "\u001b[31mAttributeError\u001b[39m: 'Car' object has no attribute 'brand'"
     ]
    }
   ],
   "source": [
    "class Car:\n",
    "\n",
    "    def __init__(self, brand, color):\n",
    "        self.__brand = brand\n",
    "        self.color = color\n",
    "        \n",
    "\n",
    "    def display_info(self):\n",
    "        print(f\"Brand: {self.__brand}, Color: {self.__color}\")\n",
    "\n",
    "car_1 = Car('Toyota', 'Red')\n",
    "print(car_1.brand)  # Output: Toyota\n",
    "\n",
    "\n"
   ]
  },
  {
   "cell_type": "code",
   "execution_count": 46,
   "id": "af89bbd2",
   "metadata": {},
   "outputs": [
    {
     "name": "stdout",
     "output_type": "stream",
     "text": [
      "Owner Name: Manuth, Current Balance: 0.0\n",
      "Deposited: 1000, New Balance: 1000.0\n",
      "Withdraw: 500, New Balance: 500.0\n"
     ]
    }
   ],
   "source": [
    "# Design a python class caller BankAccount that model a basic bank account using OOP principles.\n",
    "# your classroom use private attribute for account_number,owner_name and balance(should start at 0.0 by default).\n",
    "# provide the constructor that accept only account_number and owner_name \n",
    "# The balance should initialized to 0.0 inside the constructor.\n",
    "# Include the following pulic methods: \n",
    "   #1.display_account() = print the owner_name and current balance(but not the account_number)\n",
    "   #2.deposit(amount) = add money to the account only if the amount is value\n",
    "   #3.withdraw(amount) = deduct money only if there is enough value\n",
    "# get_balance() = return the current balance of the account\n",
    "# Implement the private method called validate_amount(amount) that checks \n",
    "       #1. if the amount is valid (greater than 0).\n",
    "       #2. is used internaly both deposite and withdraw validate injection\n",
    "\n",
    "\n",
    "class BankAccount:\n",
    "\n",
    "    def __init__(self, account_number, owner_name):\n",
    "        self.__account_number = account_number\n",
    "        self.__owner_name = owner_name\n",
    "        self.__balance = 0.0\n",
    "\n",
    "    def display_account(self):\n",
    "        print(f\"Owner Name: {self.__owner_name}, Current Balance: {self.__balance}\")\n",
    "\n",
    "    def deposit(self, amount):\n",
    "        if self.validate_amount(amount):\n",
    "            self.__balance += amount\n",
    "            print(f\"Deposited: {amount}, New Balance: {self.__balance}\")\n",
    "        else:\n",
    "            print(\"Invalid deposit amount.\")\n",
    "\n",
    "    def withdraw(self, amount):\n",
    "        if self.validate_amount(amount) and amount <= self.__balance:\n",
    "            self.__balance -= amount\n",
    "            print(f\"Withdraw: {amount}, New Balance: {self.__balance}\")\n",
    "        else:\n",
    "            print(\"Invalid withdrawal amount or Haven't funds.\")\n",
    "\n",
    "    def get_balance(self):\n",
    "        return self.__balance\n",
    "\n",
    "    def validate_amount(self, amount):\n",
    "        return amount > 0\n",
    "    \n",
    "\n",
    "\n",
    "account_1 = BankAccount(1, 'Manuth')\n",
    "account_1.display_account() \n",
    "account_1.deposit(1000)\n",
    "account_1.withdraw(500)"
   ]
  },
  {
   "cell_type": "code",
   "execution_count": null,
   "id": "16aaf818",
   "metadata": {},
   "outputs": [
    {
     "name": "stdout",
     "output_type": "stream",
     "text": [
      "Hi Guys! Hope everthing is good. I'm fine too.\n",
      "This is much better.\n",
      "This is even better.\n",
      "I love AI.\n"
     ]
    }
   ],
   "source": [
    "\n",
    "# Open a file named \"my_file.txt\" and read its content\n",
    "# Make sure the file exists in the same directory as this script.\n",
    "\n",
    "file_1 = open(\"my_file.txt\",\"r\")\n",
    "\n",
    "read_content = file_1.read()\n",
    "print(read_content)\n",
    "\n",
    "file_1.close()  # Don't forget to close the file after reading"
   ]
  },
  {
   "cell_type": "code",
   "execution_count": 51,
   "id": "de8c481b",
   "metadata": {},
   "outputs": [
    {
     "name": "stdout",
     "output_type": "stream",
     "text": [
      "Hi Guys! Hope everthing is good. I'm fine too.\n",
      "This is much better.\n",
      "This is even better.\n",
      "I love AI.\n"
     ]
    }
   ],
   "source": [
    "# file handling using 'with' statement\n",
    "# This automatically closes the file after the block is executed\n",
    "\n",
    "with open(\"my_file.txt\", \"r\") as file_1: \n",
    "    read_content = file_1.read()\n",
    "    print(read_content)"
   ]
  },
  {
   "cell_type": "code",
   "execution_count": 54,
   "id": "93cda6b1",
   "metadata": {},
   "outputs": [
    {
     "name": "stdout",
     "output_type": "stream",
     "text": [
      "Hi Guys! Hope everthing is good. I'm fine too.\n",
      "\n",
      "This is much better.\n",
      "\n",
      "This is even better.\n",
      "\n"
     ]
    }
   ],
   "source": [
    "\n",
    "with open(\"my_file.txt\", \"r\") as file_1:\n",
    "    line_1 = file_1.readline()  # Read the first line of the file\n",
    "    print(line_1)\n",
    "    line_2 = file_1.readline()  # Read the second line of the file\n",
    "    print(line_2)\n",
    "    line_3 = file_1.readline()  # Read the third line of the file\n",
    "    print(line_3)"
   ]
  },
  {
   "cell_type": "code",
   "execution_count": 85,
   "id": "34b2409f",
   "metadata": {},
   "outputs": [
    {
     "name": "stdout",
     "output_type": "stream",
     "text": [
      "Hi Guys! Hope everthing is good. I'm fine too.\n",
      "This is much better.\n",
      "This is even better.\n",
      "I love AI.\n"
     ]
    }
   ],
   "source": [
    "with open(\"my_file.txt\", \"r\") as file_1:\n",
    "\n",
    "    while True:\n",
    "        line = file_1.readline()\n",
    "        if not line:\n",
    "            break\n",
    "        print(line.strip()) # strip() removes leading and trailing whitespace characters\n",
    "        \n",
    "\n",
    "      "
   ]
  },
  {
   "cell_type": "code",
   "execution_count": 88,
   "id": "7ed55ef6",
   "metadata": {},
   "outputs": [
    {
     "name": "stdout",
     "output_type": "stream",
     "text": [
      "[\"Hi Guys! Hope everthing is good. I'm fine too.\\n\", 'This is much better.\\n', 'This is even better.\\n', 'I love AI.']\n"
     ]
    }
   ],
   "source": [
    "with open(\"my_file.txt\", \"r\") as file_1:\n",
    "    line = file_1.readlines()  # Read all lines of the file\n",
    "    print(line)  # Print the list of lines"
   ]
  },
  {
   "cell_type": "code",
   "execution_count": 91,
   "id": "becb22c4",
   "metadata": {},
   "outputs": [
    {
     "name": "stdout",
     "output_type": "stream",
     "text": [
      "Hi Guys! Hope everthing is good. I'm fine too.\n",
      "This is much better.\n",
      "This is even better.\n",
      "I love AI.\n"
     ]
    }
   ],
   "source": [
    "with open(\"my_file.txt\", \"r\") as file_1:\n",
    "    lines = file_1.readlines()\n",
    "    for i in lines:\n",
    "        print(i.strip())"
   ]
  },
  {
   "cell_type": "code",
   "execution_count": null,
   "id": "073a2bf4",
   "metadata": {},
   "outputs": [],
   "source": [
    "# Create a new file named \"my_file1.txt\" and write some content to it.\n",
    "# This will create the file if it doesn't exist, or overwrite it if it does.\n",
    "\n",
    "with open(\"my_file1.txt\", \"w\") as file_1:\n",
    "    file_1.write(\"This is awesome.\\n\")\n",
    "    file_1.write(\"programming is fun.\\n\")"
   ]
  },
  {
   "cell_type": "code",
   "execution_count": 94,
   "id": "8b4f9c9b",
   "metadata": {},
   "outputs": [],
   "source": [
    "with open(\"my_file1.txt\", \"w\") as file_1:\n",
    "    file_1.write(\"I am a developer.\\n\")"
   ]
  },
  {
   "cell_type": "code",
   "execution_count": 96,
   "id": "631c2c3f",
   "metadata": {},
   "outputs": [],
   "source": [
    "with open(\"my_file1.txt\", \"a\") as file_1:\n",
    "    file_1.write(\"Python programming.\\n\")  # Append a new line to the existing file"
   ]
  },
  {
   "cell_type": "code",
   "execution_count": 100,
   "id": "0efb81b1",
   "metadata": {},
   "outputs": [],
   "source": [
    "with open(\"my_file1.txt\", \"a\") as file_1:\n",
    "    line_list = [\"This is new.\\n\",\"writelines() method. \\n\"]\n",
    "    file_1.writelines(line_list)  # Append multiple lines to the existing file"
   ]
  },
  {
   "cell_type": "code",
   "execution_count": 103,
   "id": "e65f271a",
   "metadata": {},
   "outputs": [
    {
     "name": "stdout",
     "output_type": "stream",
     "text": [
      "{'name': 'John Doe', 'age': 30, 'isStudent': False, 'hobbies': ['reading', 'gardening', 'swimming']} <class 'dict'>\n"
     ]
    }
   ],
   "source": [
    "import json\n",
    "\n",
    "with open(\"test.json\", \"r\") as json_file:\n",
    "    data = json.load(json_file)  # Load the JSON data from the file\n",
    "    print(data,type(data))  # Print the loaded JSON data\n",
    "    "
   ]
  },
  {
   "cell_type": "code",
   "execution_count": 121,
   "id": "18b85d8a",
   "metadata": {},
   "outputs": [],
   "source": [
    "import json\n",
    "\n",
    "data = {\n",
    "    \"name\" : \"Manuth\",\n",
    "    \"age\"  : 30,\n",
    "    \"city\" : \"New York\"\n",
    "}\n",
    "\n",
    "with open(\"test1.json\", \"w\")as json_file:\n",
    "    json.dump(data, json_file, indent=4)"
   ]
  },
  {
   "cell_type": "code",
   "execution_count": 112,
   "id": "076c0c15",
   "metadata": {},
   "outputs": [
    {
     "name": "stdout",
     "output_type": "stream",
     "text": [
      "<class '_csv.reader'>\n",
      "['Name', 'Age', 'Occupation']\n",
      "['John Doe', '30', 'Engineer']\n",
      "['Jane Smith', '25', 'Teacher']\n",
      "['Bob Johnson', '40', 'Doctor']\n",
      "['Alice Brown', '35', 'Artist']\n"
     ]
    }
   ],
   "source": [
    "import csv\n",
    "\n",
    "with open(\"test.csv\", \"r\", newline='') as csv_file:\n",
    "    csv_reader = csv.reader(csv_file)  # Create a CSV reader object\n",
    "    print(type(csv_reader))  # Print the type of the CSV reader object\n",
    "\n",
    "    for row in csv_reader:\n",
    "        print(row)\n",
    "        \n"
   ]
  },
  {
   "cell_type": "code",
   "execution_count": 113,
   "id": "f4268341",
   "metadata": {},
   "outputs": [
    {
     "name": "stdout",
     "output_type": "stream",
     "text": [
      "<class 'csv.DictReader'>\n",
      "{'Name': 'John Doe', 'Age': '30', 'Occupation': 'Engineer'}\n",
      "{'Name': 'Jane Smith', 'Age': '25', 'Occupation': 'Teacher'}\n",
      "{'Name': 'Bob Johnson', 'Age': '40', 'Occupation': 'Doctor'}\n",
      "{'Name': 'Alice Brown', 'Age': '35', 'Occupation': 'Artist'}\n"
     ]
    }
   ],
   "source": [
    "import csv\n",
    "\n",
    "with open(\"test.csv\", \"r\", newline='') as csv_file:\n",
    "    csv_reader = csv.DictReader(csv_file)\n",
    "    print(type(csv_reader))\n",
    "    \n",
    "    for row in csv_reader:\n",
    "      print(row)"
   ]
  },
  {
   "cell_type": "code",
   "execution_count": 119,
   "id": "e5bbc275",
   "metadata": {},
   "outputs": [],
   "source": [
    "import csv\n",
    "\n",
    "data = [\n",
    "{'Name': 'John Doe', 'Age': '30', 'City': 'Canada'},\n",
    "{'Name': 'Jane Smith', 'Age': '25', 'City': 'Japan'},\n",
    "{'Name': 'Bob Johnson', 'Age': '40', 'City': 'USA'}\n",
    "]\n",
    "\n",
    "fieldnames = ['Name', 'Age', 'City']\n",
    "\n",
    "with open(\"test1.csv\", \"w\", newline='') as csv_file:\n",
    "\n",
    "    csv_writer = csv.DictWriter(csv_file, fieldnames=fieldnames)\n",
    "\n",
    "    csv_writer.writeheader()\n",
    "    csv_writer.writerows(data)"
   ]
  },
  {
   "cell_type": "code",
   "execution_count": null,
   "id": "ca5c325b",
   "metadata": {},
   "outputs": [],
   "source": []
  }
 ],
 "metadata": {
  "kernelspec": {
   "display_name": "Python 3",
   "language": "python",
   "name": "python3"
  },
  "language_info": {
   "codemirror_mode": {
    "name": "ipython",
    "version": 3
   },
   "file_extension": ".py",
   "mimetype": "text/x-python",
   "name": "python",
   "nbconvert_exporter": "python",
   "pygments_lexer": "ipython3",
   "version": "3.13.3"
  }
 },
 "nbformat": 4,
 "nbformat_minor": 5
}
