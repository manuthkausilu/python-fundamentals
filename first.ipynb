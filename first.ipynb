{
 "cells": [
  {
   "cell_type": "code",
   "execution_count": 1,
   "id": "7596090d",
   "metadata": {},
   "outputs": [
    {
     "name": "stdout",
     "output_type": "stream",
     "text": [
      "a + b = 15\n"
     ]
    }
   ],
   "source": [
    "a = 10\n",
    "b = 5 \n",
    "\n",
    "print(\"a + b =\", a + b)"
   ]
  },
  {
   "cell_type": "code",
   "execution_count": 4,
   "id": "b22e896d",
   "metadata": {},
   "outputs": [
    {
     "name": "stdout",
     "output_type": "stream",
     "text": [
      "<class 'int'>\n",
      "<class 'str'>\n",
      "<class 'bool'>\n",
      "<class 'float'>\n"
     ]
    }
   ],
   "source": [
    "age = 30\n",
    "name= \"John\"\n",
    "is_student = True\n",
    "pi_value = 3.14\n",
    "\n",
    "print(type(age))\n",
    "print(type(name))\n",
    "print(type(is_student)) \n",
    "print(type(pi_value))"
   ]
  },
  {
   "cell_type": "code",
   "execution_count": null,
   "id": "fca6075f",
   "metadata": {},
   "outputs": [
    {
     "ename": "SyntaxError",
     "evalue": "invalid decimal literal (3629131801.py, line 1)",
     "output_type": "error",
     "traceback": [
      "  \u001b[36mCell\u001b[39m\u001b[36m \u001b[39m\u001b[32mIn[5]\u001b[39m\u001b[32m, line 1\u001b[39m\n\u001b[31m    \u001b[39m\u001b[31m2num = 12\u001b[39m\n    ^\n\u001b[31mSyntaxError\u001b[39m\u001b[31m:\u001b[39m invalid decimal literal\n"
     ]
    }
   ],
   "source": [
    "num = 7\n",
    "_num = 8\n",
    "2num = 12\n",
    "\n",
    "print(\"num =\", num)  # This will print the value of num\n",
    "print(\"_num =\", _num)  # This will print the value of _num\n",
    "print(\"2num =\", 2num)  # This will raise a SyntaxError because variable names cannot start with a digit"
   ]
  },
  {
   "cell_type": "code",
   "execution_count": null,
   "id": "d18b979b",
   "metadata": {},
   "outputs": [
    {
     "name": "stdout",
     "output_type": "stream",
     "text": [
      "num = 2500000000000.0\n",
      "<class 'float'>\n"
     ]
    }
   ],
   "source": [
    "num = 2.5e12      # 2.5*10^12 meka thamai methana variable ekakt define karala thiyenne\n",
    "\n",
    "print(\"num =\", num)  # This will print the value of num in scientific notation\n",
    "print(type(num))  # This will print the type of num, which is float"
   ]
  },
  {
   "cell_type": "code",
   "execution_count": 8,
   "id": "bcd9ef39",
   "metadata": {},
   "outputs": [
    {
     "name": "stdout",
     "output_type": "stream",
     "text": [
      "7 <class 'int'>\n",
      "7.0 <class 'float'>\n"
     ]
    }
   ],
   "source": [
    "a = 7 \n",
    "b = float(a)  # This will convert the integer a to a float\n",
    "\n",
    "print(a, type(a))  # This will print the value of a and its type\n",
    "print(b, type(b))  # This will print the value of b and its type after conversion"
   ]
  },
  {
   "cell_type": "code",
   "execution_count": 9,
   "id": "aec2eace",
   "metadata": {},
   "outputs": [
    {
     "name": "stdout",
     "output_type": "stream",
     "text": [
      "5.8 <class 'float'>\n",
      "5 <class 'int'>\n"
     ]
    }
   ],
   "source": [
    "c = 5.8 \n",
    "d = int(c)  # This will convert the float c to an integer\n",
    "\n",
    "print(c, type(c))  # This will print the value of c and its type\n",
    "print(d, type(d))  # This will print the value of d and its type after conversion"
   ]
  },
  {
   "cell_type": "code",
   "execution_count": null,
   "id": "b6533e19",
   "metadata": {},
   "outputs": [
    {
     "name": "stdout",
     "output_type": "stream",
     "text": [
      "[10, 'Dog', 9.8, True, 20]\n",
      "9.8\n",
      "['Dog', 9.8, True]\n",
      "[10, 'Dog', 9.8, True]\n",
      "[9.8, True, 20]\n",
      "20\n",
      "5\n",
      "[10, 'Cat', 9.8, True, 20]\n",
      "[10, 'Cat', 9.8, True, 20, 'Fish']\n",
      "[10, 'Cat', 'Bird', 9.8, True, 20, 'Fish']\n",
      "[10, 'Bird', 9.8, True, 20, 'Fish']\n",
      "[10, 'Bird', 9.8, True, 20]\n",
      "[]\n",
      "Fish\n"
     ]
    }
   ],
   "source": [
    "my_list = [10, \"Dog\", 9.8, True, 20]\n",
    "remove_list = []\n",
    "\n",
    "print(my_list)  # This will print the entire list\n",
    "\n",
    "print(my_list[2])  # This will print the first element of the list\n",
    "\n",
    "print(my_list[1:4])  # This will print a slice of the list from index 1 to 3 (not including index 4)\n",
    "\n",
    "print(my_list[:4])  # This will print the first four elements of the list\n",
    "\n",
    "print(my_list[2:]) # This will print the elements of the list starting from index 2 to the end\n",
    "\n",
    "print(my_list[-1])  # This will print the last element of the list\n",
    "\n",
    "print(len(my_list))  # This will print the length of the list\n",
    "\n",
    "my_list[1] = \"Cat\"  # This will change the second element of the list from \"Dog\" to \"Cat\"\n",
    "print(my_list)  # This will print the modified list\n",
    "\n",
    "my_list.append(\"Fish\")  # This will add \"Fish\" to the end of the list\n",
    "print(my_list)  # This will print the list after appending \"Fish\"\n",
    "\n",
    "my_list.insert(2, \"Bird\")  # This will insert \"Bird\" at index 2 of the list\n",
    "print(my_list)  # This will print the list after inserting \"Bird\"\n",
    "\n",
    "my_list.remove(\"Cat\")  # This will remove \"Cat\" from the list\n",
    "print(my_list)  # This will print the list after removing \"Dog\"\n",
    "\n",
    "my_list.pop()  # This will remove the last element of the list\n",
    "print(my_list)  # This will print the list after popping the last element\n",
    "\n",
    "my_list.clear()  # This will remove all elements from the list\n",
    "print(my_list)  # This will print the empty list after clearing it"
   ]
  },
  {
   "cell_type": "code",
   "execution_count": null,
   "id": "8df7d022",
   "metadata": {},
   "outputs": [
    {
     "name": "stdout",
     "output_type": "stream",
     "text": [
      "[1, 2, 3, 4, 5, 6]\n",
      "[1, 2, 3, 4, 5, 6]\n"
     ]
    }
   ],
   "source": [
    "my_list_1 = [1, 2, 3]\n",
    "my_list_2 = [4, 5, 6]   \n",
    "\n",
    "my_list_3 = my_list_1 + my_list_2  # This will concatenate the two lists\n",
    "print(my_list_3)  # This will print the concatenated list\n",
    "\n",
    "my_list_1.extend(my_list_2)  # This will extend my_list_1 by appending elements from my_list_2\n",
    "print(my_list_1)  # This will print my_list_1 after extending it with my_list_2"
   ]
  },
  {
   "cell_type": "code",
   "execution_count": 21,
   "id": "0cf4bb67",
   "metadata": {},
   "outputs": [
    {
     "name": "stdout",
     "output_type": "stream",
     "text": [
      "['apple', 18, 'banana', False, 9.6, 5]\n"
     ]
    }
   ],
   "source": [
    "my_list = [\"apple\", 20, \"orange\", True, 9.6, 5]\n",
    "\n",
    "\n",
    "my_list[1:4] = [18, \"banana\", False]  # This will replace elements at indices 1, 2, and 3\n",
    "print(my_list)  # This will print the list after replacing multiple elements"
   ]
  },
  {
   "cell_type": "code",
   "execution_count": 25,
   "id": "98dd357d",
   "metadata": {},
   "outputs": [
    {
     "name": "stdout",
     "output_type": "stream",
     "text": [
      "3\n"
     ]
    }
   ],
   "source": [
    "my_list = [1, 2, 3, 4, 5]\n",
    "\n",
    "remove_list = my_list.pop(2)  # This will remove the element at index 2 and return it\n",
    "print(remove_list)  # This will print the removed element, which is 3"
   ]
  },
  {
   "cell_type": "code",
   "execution_count": 29,
   "id": "7f2ad424",
   "metadata": {},
   "outputs": [
    {
     "name": "stdout",
     "output_type": "stream",
     "text": [
      "[10, 20, 30, 50]\n"
     ]
    }
   ],
   "source": [
    "my_list = [10, 20, 30, 40, 50]\n",
    "\n",
    "del my_list[3]  # This will delete the element at index 3\n",
    "print(my_list)  # This will print the list after deleting the element at index 3"
   ]
  },
  {
   "cell_type": "code",
   "execution_count": null,
   "id": "3a75c602",
   "metadata": {},
   "outputs": [
    {
     "name": "stdout",
     "output_type": "stream",
     "text": [
      "['Grape', 'apple', 'banana', 'oranage']\n",
      "[10, 40, 50, 60, 70, 80, 90]\n",
      "[90, 80, 70, 60, 50, 40, 10]\n"
     ]
    }
   ],
   "source": [
    "my_list = [\"oranage\", \"apple\", \"banana\", \"Grape\"] \n",
    "my_list.sort()  # This will sort the list in ascending order    \n",
    "print(my_list)  # This will print the sorted list      # upercase walata mul thanak denawa\n",
    "\n",
    "\n",
    "my_list_num = [ 40, 50, 10, 60, 70, 80, 90]\n",
    "my_list_num.sort()  # This will sort the list of numbers in ascending order\n",
    "print(my_list_num)  # This will print the sorted list of numbers\n",
    "\n",
    "my_list_num2 = [ 40, 50, 10, 60, 70, 80, 90]\n",
    "my_list_num2.sort(reverse=True)  # This will sort the list of numbers in descending order  #wadi eke idn onnm mehema karanna one\n",
    "print(my_list_num2)  # This will print the sorted list of numbers in descending order"
   ]
  },
  {
   "cell_type": "code",
   "execution_count": 34,
   "id": "09b8237e",
   "metadata": {},
   "outputs": [
    {
     "name": "stdout",
     "output_type": "stream",
     "text": [
      "[5, 4, 3, 2, 1]\n"
     ]
    }
   ],
   "source": [
    "my_list = [1, 2, 3, 4, 5]\n",
    "my_list.reverse()  # This will reverse the order of elements in the list\n",
    "print(my_list)  # This will print the reversed list"
   ]
  },
  {
   "cell_type": "code",
   "execution_count": null,
   "id": "db1ae8f2",
   "metadata": {},
   "outputs": [
    {
     "name": "stdout",
     "output_type": "stream",
     "text": [
      "[1, 2, 3]\n"
     ]
    }
   ],
   "source": [
    "list_1 = [1, 2, 3]\n",
    "list_2 = list_1.copy()  # This will create a shallow copy of list_1\n",
    "list_1.append(4)  # This will add 4 to the copied list\n",
    "print(list_2)  # This will print the copied list"
   ]
  },
  {
   "cell_type": "code",
   "execution_count": 43,
   "id": "59231c4f",
   "metadata": {},
   "outputs": [
    {
     "name": "stdout",
     "output_type": "stream",
     "text": [
      "[1, 2, 3, 4, 5, 6]\n"
     ]
    }
   ],
   "source": [
    "list_1 = [1, 2, 3]\n",
    "list_2 = [4, 5, 6]\n",
    "list_3 = list_1 + list_2  # This will concatenate the two lists\n",
    "print(list_3)  # This will print the concatenated list"
   ]
  },
  {
   "cell_type": "code",
   "execution_count": null,
   "id": "d45ce691",
   "metadata": {},
   "outputs": [],
   "source": []
  }
 ],
 "metadata": {
  "kernelspec": {
   "display_name": "Python 3",
   "language": "python",
   "name": "python3"
  },
  "language_info": {
   "codemirror_mode": {
    "name": "ipython",
    "version": 3
   },
   "file_extension": ".py",
   "mimetype": "text/x-python",
   "name": "python",
   "nbconvert_exporter": "python",
   "pygments_lexer": "ipython3",
   "version": "3.13.3"
  }
 },
 "nbformat": 4,
 "nbformat_minor": 5
}
