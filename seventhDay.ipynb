{
 "cells": [
  {
   "cell_type": "code",
   "execution_count": null,
   "id": "99720056",
   "metadata": {},
   "outputs": [
    {
     "name": "stdout",
     "output_type": "stream",
     "text": [
      "[10 14 13 11]\n",
      "<class 'numpy.ndarray'>\n",
      "[-2 -4 -1  5]\n",
      "<class 'numpy.ndarray'>\n",
      "[24 45 42 24]\n",
      "<class 'numpy.ndarray'>\n"
     ]
    }
   ],
   "source": [
    "import numpy as np\n",
    "\n",
    "array1 = np.array([4, 5, 6, 8])\n",
    "array2 = np.array([6, 9, 7, 3])\n",
    "\n",
    "array_sum = array1 + array2\n",
    "print(array_sum)\n",
    "print(type(array_sum))\n",
    "\n",
    "array_diff = array1 - array2\n",
    "print(array_diff)\n",
    "print(type(array_diff))\n",
    "\n",
    "array_product = array1 * array2\n",
    "print(array_product)\n",
    "print(type(array_product))"
   ]
  },
  {
   "cell_type": "code",
   "execution_count": 23,
   "id": "38b0fc85",
   "metadata": {},
   "outputs": [
    {
     "name": "stdout",
     "output_type": "stream",
     "text": [
      "[[4 3 5]\n",
      " [9 5 8]]\n",
      "6\n",
      "2\n",
      "(2, 3)\n",
      "int64\n"
     ]
    }
   ],
   "source": [
    "array_1 = np.array([[4, 3, 5], [9, 5, 8]])\n",
    "print(array_1)\n",
    "\n",
    "print(array_1.size)   # Print the total number of elements in the array\n",
    "print(array_1.ndim)   # Print the number of dimensions of the array\n",
    "print(array_1.shape)  # Print the shape of the array (rows, columns)\n",
    "\n",
    "print(array_1.dtype)  # Print the data type of the elements in the array"
   ]
  },
  {
   "cell_type": "code",
   "execution_count": 24,
   "id": "544ad21b",
   "metadata": {},
   "outputs": [
    {
     "name": "stdout",
     "output_type": "stream",
     "text": [
      "12\n",
      "3\n",
      "(2, 2, 3)\n"
     ]
    }
   ],
   "source": [
    "array_2 = np.array([[[4, 5, 8],[11, 20, 13]], [[6, 9, 7],[3, 2, 1]]])\n",
    "\n",
    "print(array_2.size)\n",
    "print(array_2.ndim)\n",
    "print(array_2.shape)"
   ]
  },
  {
   "cell_type": "code",
   "execution_count": 30,
   "id": "dc96b36e",
   "metadata": {},
   "outputs": [
    {
     "name": "stdout",
     "output_type": "stream",
     "text": [
      "2\n"
     ]
    }
   ],
   "source": [
    "array_1 = np.array([6, 9, 4, 2])\n",
    "\n",
    "print(array_1[3])  # Print the last element of the array"
   ]
  },
  {
   "cell_type": "code",
   "execution_count": null,
   "id": "76c517cd",
   "metadata": {},
   "outputs": [
    {
     "name": "stdout",
     "output_type": "stream",
     "text": [
      "8\n",
      "8\n"
     ]
    }
   ],
   "source": [
    "array_1 = np.array([[4, 3, 5], [9, 8, 12]])\n",
    "print(array_1[1][1])  # Accessing the element at row 1, column 1  # less efficient syntax\n",
    "print(array_1[1, 1]) # Accessing the same element using a different syntax"
   ]
  },
  {
   "cell_type": "code",
   "execution_count": 46,
   "id": "0940496e",
   "metadata": {},
   "outputs": [
    {
     "name": "stdout",
     "output_type": "stream",
     "text": [
      "20\n",
      "7\n"
     ]
    }
   ],
   "source": [
    "array_2 = np.array([[[4, 5, 8],[11, 20, 13]], [[6, 9, 7],[3, 2, 1]]])\n",
    "print(array_2[0,1, 1])\n",
    "print(array_2[1,0, 2])  # Accessing the element at first array, second row, third column"
   ]
  },
  {
   "cell_type": "code",
   "execution_count": null,
   "id": "ea389a80",
   "metadata": {},
   "outputs": [
    {
     "name": "stdout",
     "output_type": "stream",
     "text": [
      "[False  True  True False  True]\n",
      "[50 40 30]\n",
      "[50 40 30]\n",
      "[40 30]\n"
     ]
    }
   ],
   "source": [
    "import numpy as np\n",
    "\n",
    "arr = np.array([10, 50, 40, 20, 30])\n",
    "\n",
    "condition = arr > 25\n",
    "\n",
    "print(condition)  # Print the boolean array where condition is True or False\n",
    "print(arr[condition])  # Print the elements of arr that satisfy the condition\n",
    "print(arr[arr > 25])\n",
    "\n",
    "print(arr[(arr > 25) & (arr < 45)])  # Print elements greater than 25 and less than 50"
   ]
  },
  {
   "cell_type": "code",
   "execution_count": 26,
   "id": "bdaf0a74",
   "metadata": {},
   "outputs": [
    {
     "name": "stdout",
     "output_type": "stream",
     "text": [
      "29.666666666666668\n",
      "[31 30 32 31 34 35 31 30]\n"
     ]
    }
   ],
   "source": [
    "# you are given the following array representing the body temperatures(in Celsius) of five patients over 3 time slots.(morning, afternoon, evening)\n",
    "# 31 30 28\n",
    "# 29 29 32\n",
    "# 26 24 27\n",
    "# 31 34 35\n",
    "# 28 31 30\n",
    "# Identify and extraact all temperatures reading grater than the daily avarage temperature using boolean indexing in nmpy array.\n",
    "\n",
    "temperatures = np.array([[31, 30, 28],[29, 29, 32],[26, 24, 27],[31, 34, 35],[28, 31, 30]])\n",
    "daily_avg = np.mean(temperatures)\n",
    "print(daily_avg)\n",
    "\n",
    "condition = temperatures > daily_avg\n",
    "print(temperatures[condition])\n",
    "\n"
   ]
  },
  {
   "cell_type": "code",
   "execution_count": 59,
   "id": "4606a5af",
   "metadata": {},
   "outputs": [
    {
     "name": "stdout",
     "output_type": "stream",
     "text": [
      "[[0. 0. 0. 0.]\n",
      " [0. 0. 0. 0.]\n",
      " [0. 0. 0. 0.]]\n",
      "[[7 7 7]\n",
      " [7 7 7]]\n",
      "[[1. 1. 1.]\n",
      " [1. 1. 1.]]\n"
     ]
    }
   ],
   "source": [
    "import numpy as np\n",
    "\n",
    "print(np.zeros((3, 4)))  # Create a 3x4 array filled with zeros\n",
    "print(np.full((2, 3), 7))  # Create a 2x3 array filled with the value 7\n",
    "print(np.ones((2, 3)))   # Create a 2x3 array filled\n"
   ]
  },
  {
   "cell_type": "code",
   "execution_count": 10,
   "id": "c9a60d8f",
   "metadata": {},
   "outputs": [
    {
     "name": "stdout",
     "output_type": "stream",
     "text": [
      "[[1. 1. 1.]\n",
      " [1. 1. 1.]]\n"
     ]
    }
   ],
   "source": [
    "array_1 = np.empty((2, 3))  # Create an empty array with shape 2x3\n",
    "print(array_1)  # The values in the empty array are uninitialized and may contain"
   ]
  },
  {
   "cell_type": "code",
   "execution_count": null,
   "id": "acf219be",
   "metadata": {},
   "outputs": [
    {
     "name": "stdout",
     "output_type": "stream",
     "text": [
      "      Name  Age\n",
      "0    Alice   25\n",
      "1      Bob   30\n",
      "2  Charlie   35\n",
      "3    David   40\n",
      "<class 'pandas.core.frame.DataFrame'>\n",
      "35\n",
      "David\n",
      "(4, 2)\n"
     ]
    }
   ],
   "source": [
    "import pandas as pd\n",
    "\n",
    "data = {\n",
    "    'Name' : ['Alice', 'Bob', 'Charlie', 'David'],\n",
    "    'Age' : [25, 30, 35, 40],\n",
    "}\n",
    "\n",
    "df = pd.DataFrame(data)  # Create a DataFrame from the dictionary\n",
    "print(df)  # Print the DataFrame\n",
    "print(type(df))  # Print the type of the DataFrame\n",
    "\n",
    "print(df.loc[2, 'Age'])  # Access the value at row index 2 and column 'Age'\n",
    "\n",
    "print(df.iloc[3, 0])  # Access the value at row index 2 and column index 1"
   ]
  },
  {
   "cell_type": "code",
   "execution_count": 55,
   "id": "c03413d5",
   "metadata": {},
   "outputs": [
    {
     "name": "stdout",
     "output_type": "stream",
     "text": [
      "             Name  Age\n",
      "student1    Alice   25\n",
      "student2      Bob   30\n",
      "student3  Charlie   35\n",
      "student4    David   40\n",
      "<class 'pandas.core.frame.DataFrame'>\n",
      "Name    Alice\n",
      "Age        25\n",
      "Name: student1, dtype: object\n",
      "\n",
      "           Name  Age\n",
      "student1  Alice   25\n",
      "student2    Bob   30\n",
      "\n",
      "           Name  Age\n",
      "student1  Alice   25\n",
      "student2    Bob   30\n",
      "\n",
      "student1    25\n",
      "student2    30\n",
      "student3    35\n",
      "student4    40\n",
      "Name: Age, dtype: int64\n",
      "\n",
      "             Name  Age\n",
      "student1    Alice   25\n",
      "student2      Bob   30\n",
      "student3  Charlie   35\n",
      "student4    David   40\n",
      "\n",
      "8\n",
      "(4, 2)\n",
      "4\n",
      "\n",
      "4\n",
      "\n",
      "Index(['Name', 'Age'], dtype='object')\n",
      "['Name', 'Age']\n",
      "Index(['student1', 'student2', 'student3', 'student4'], dtype='object')\n"
     ]
    }
   ],
   "source": [
    "data = {\n",
    "    'Name' : ['Alice', 'Bob', 'Charlie', 'David'],\n",
    "    'Age' : [25, 30, 35, 40],\n",
    "}\n",
    "\n",
    "df = pd.DataFrame(data, index=['student1', 'student2', 'student3', 'student4'])  # Create a DataFrame with custom index\n",
    "print(df)  # Print the DataFrame with custom index\n",
    "print(type(df))  # Print the type of the DataFrame with custom index\n",
    "print(df.loc['student1'])\n",
    "print()\n",
    "print(df.loc[['student1','student2']]) # Access multiple rows by index labels(need to pass list of labels)\n",
    "\n",
    "print()\n",
    "print(df.iloc[0:2]) # Access multiple rows by index positions (slicing)\n",
    "print()\n",
    "print(df['Age'])  # Access the 'Age' column of the DataFrame\n",
    "print()\n",
    "print(df[['Name','Age']])  # Access the 'Age' column of the DataFrame\n",
    "print()\n",
    "print(df.size)  # Print the total number of elements in the DataFrame\n",
    "print(df.shape)  # Print the shape of the DataFrame (rows, columns)\n",
    "print(len(df))  # Print the number of rows in the DataFrame\n",
    "print()\n",
    "print(df.shape[0])  \n",
    "print()\n",
    "print(df.columns)  # Print the column names of the DataFrame\n",
    "print(list(df.columns)) # conver the column names to a list\n",
    "print(df.index)  # Print the index labels of the DataFrame"
   ]
  },
  {
   "cell_type": "code",
   "execution_count": 57,
   "id": "d130b816",
   "metadata": {},
   "outputs": [
    {
     "name": "stdout",
     "output_type": "stream",
     "text": [
      "[['Alice' 25]\n",
      " ['Bob' 30]\n",
      " ['Charlie' 35]\n",
      " ['David' 40]]\n",
      "<class 'numpy.ndarray'>\n"
     ]
    }
   ],
   "source": [
    "arr = df.values  # Convert the DataFrame to a NumPy array\n",
    "print(arr)  # Print the NumPy array representation of the DataFrame\n",
    "print(type(arr))  # Print the type of the NumPy array"
   ]
  },
  {
   "cell_type": "code",
   "execution_count": 64,
   "id": "634f279b",
   "metadata": {},
   "outputs": [
    {
     "name": "stdout",
     "output_type": "stream",
     "text": [
      "Name    AliceBobCharlieDavid\n",
      "Age                      130\n",
      "dtype: object\n",
      "32.5\n",
      "40\n"
     ]
    }
   ],
   "source": [
    "print(df.sum())  # Print the sum of each column in the DataFrame\n",
    "print(df['Age'].mean())  # Print the mean of the 'Age' column\n",
    "print(df['Age'].max())  # Print the maximum value in the 'Age' column\n"
   ]
  },
  {
   "cell_type": "code",
   "execution_count": 66,
   "id": "a1366dfd",
   "metadata": {},
   "outputs": [
    {
     "name": "stdout",
     "output_type": "stream",
     "text": [
      "             Name  Age     City\n",
      "student1    Alice   25  Colombo\n",
      "student2      Bob   30    Kandy\n",
      "student3  Charlie   35    Galle\n",
      "student4    David   40   Matara\n"
     ]
    }
   ],
   "source": [
    "# how to add a new column to the DataFrame\n",
    "\n",
    "df['City'] = ['Colombo', 'Kandy', 'Galle', 'Matara']  # Add a new column 'City' to the DataFrame\n",
    "print(df)  # Print the updated DataFrame with the new column"
   ]
  },
  {
   "cell_type": "code",
   "execution_count": 68,
   "id": "e1b64999",
   "metadata": {},
   "outputs": [
    {
     "name": "stdout",
     "output_type": "stream",
     "text": [
      "             Name  Age     City\n",
      "student1    Alice   25  Colombo\n",
      "student2      Bob   30    Kandy\n",
      "student3  Charlie   35    Galle\n",
      "student4    David   40   Matara\n",
      "student5   Manuth   28   Horana\n"
     ]
    }
   ],
   "source": [
    "# how to add a new row to the DataFrame\n",
    "\n",
    "df.loc['student5'] = ['Manuth', 28, 'Horana'] \n",
    "print(df) \n"
   ]
  },
  {
   "cell_type": "code",
   "execution_count": 69,
   "id": "3f476139",
   "metadata": {},
   "outputs": [
    {
     "name": "stdout",
     "output_type": "stream",
     "text": [
      "             Name  Age    City\n",
      "student3  Charlie   35   Galle\n",
      "student4    David   40  Matara\n"
     ]
    }
   ],
   "source": [
    "filtered_df = df[df['Age'] > 30]  # Filter the DataFrame to include only rows where 'Age' is greater than 30\n",
    "print(filtered_df)  # Print the filtered DataFrame"
   ]
  },
  {
   "cell_type": "code",
   "execution_count": null,
   "id": "ccbd0a43",
   "metadata": {},
   "outputs": [
    {
     "name": "stdout",
     "output_type": "stream",
     "text": [
      "             Name  Age   City  Distance\n",
      "student3  Charlie   35  Galle       150\n"
     ]
    }
   ],
   "source": [
    "df['Distance'] = [100, 200, 150, 300, 250] \n",
    "\n",
    "print(df[(df['Distance'] < 200) & (df['Age'] > 30)]) "
   ]
  },
  {
   "cell_type": "code",
   "execution_count": 99,
   "id": "86b83cbc",
   "metadata": {},
   "outputs": [
    {
     "name": "stdout",
     "output_type": "stream",
     "text": [
      "0      Ayesha\n",
      "2    Tharindu\n",
      "4     Sashini\n",
      "Name: Name, dtype: object\n",
      "   studentID      Name  Assignment1  Assignment2  FinalExam    Average\n",
      "0       1001    Ayesha           78           85         90  84.333333\n",
      "1       1002     Nimal           65           70         72  69.000000\n",
      "2       1003  Tharindu           88           90         95  91.000000\n",
      "3       1004     Kasun           50           45         60  51.666667\n",
      "4       1005   Sashini           80           75         85  80.000000\n",
      "   studentID      Name  Assignment1  Assignment2  FinalExam  Average\n",
      "2       1003  Tharindu           88           90         95     91.0\n",
      "Total Marks Assignment1 : 361\n"
     ]
    }
   ],
   "source": [
    "# you are given the following Dataset representing the exam records of students.\n",
    "# In a programming course.The data includes marks for 2 assignments and a final exam.\n",
    "\n",
    "# studentID    Name     Assignment1  Assignment2  FinalExam\n",
    "# 1001         Ayesha      78           85           90\n",
    "# 1002         Nimal       65           70           72\n",
    "# 1003         Tharindu    88           90           95\n",
    "# 1004         Kasun       50           45           60\n",
    "# 1005         Sashini     80           75           85\n",
    "\n",
    "# write a python program using pandas to:\n",
    "   # 1. Create a DataFrame using the given data.\n",
    "   # 2. Display the Name of all students who scored more than 80 in the FinalExam.\n",
    "   # 3. Calculate the average score of each students across all assessments and add it as a new column called 'Average'.\n",
    "   # 4. Display the student(s) with the highest average score.\n",
    "   # 5. Calculate and Display the Total marks if scored by all students in Assignment1.\n",
    "\n",
    "import pandas as pd\n",
    "data = {\n",
    "    'studentID': [1001, 1002, 1003, 1004, 1005],\n",
    "    'Name': ['Ayesha', 'Nimal', 'Tharindu', 'Kasun', 'Sashini'],\n",
    "    'Assignment1': [78, 65, 88, 50, 80],\n",
    "    'Assignment2': [85, 70, 90, 45, 75],\n",
    "    'FinalExam': [90, 72, 95, 60, 85]\n",
    "}\n",
    "\n",
    "df = pd.DataFrame(data)\n",
    "\n",
    "print(df[df['FinalExam'] > 80]['Name'])\n",
    "\n",
    "df['Average'] = (df['Assignment1'] + df['Assignment2'] + df['FinalExam']) / 3\n",
    "print(df)\n",
    "\n",
    "highest_average  = df['Average'].max()\n",
    "print(df[df['Average'] == highest_average])\n",
    "\n",
    "print(\"Total Marks Assignment1 :\", df['Assignment1'].sum())  \n",
    "\n"
   ]
  },
  {
   "cell_type": "code",
   "execution_count": 100,
   "id": "4980ad94",
   "metadata": {},
   "outputs": [
    {
     "name": "stdout",
     "output_type": "stream",
     "text": [
      "          Name  Age Occupation\n",
      "0     John Doe   30   Engineer\n",
      "1   Jane Smith   25    Teacher\n",
      "2  Bob Johnson   40     Doctor\n",
      "3  Alice Brown   35     Artist\n",
      "<class 'pandas.core.frame.DataFrame'>\n"
     ]
    }
   ],
   "source": [
    "import pandas as pd\n",
    "df = pd.read_csv('test.csv')  # Load the CSV file into a DataFrame\n",
    "print(df)  # Print the DataFrame\n",
    "print(type(df))  # Print the type of the DataFrame"
   ]
  },
  {
   "cell_type": "code",
   "execution_count": null,
   "id": "0e6628f2",
   "metadata": {},
   "outputs": [],
   "source": []
  }
 ],
 "metadata": {
  "kernelspec": {
   "display_name": "Python 3",
   "language": "python",
   "name": "python3"
  },
  "language_info": {
   "codemirror_mode": {
    "name": "ipython",
    "version": 3
   },
   "file_extension": ".py",
   "mimetype": "text/x-python",
   "name": "python",
   "nbconvert_exporter": "python",
   "pygments_lexer": "ipython3",
   "version": "3.13.3"
  }
 },
 "nbformat": 4,
 "nbformat_minor": 5
}
