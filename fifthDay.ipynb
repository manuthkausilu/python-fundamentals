{
 "cells": [
  {
   "cell_type": "code",
   "execution_count": 1,
   "id": "06ef3c46",
   "metadata": {},
   "outputs": [
    {
     "name": "stdout",
     "output_type": "stream",
     "text": [
      "44\n"
     ]
    }
   ],
   "source": [
    "#sum function\n",
    "my_list = [8,9,12,15]\n",
    "print(sum(my_list))"
   ]
  },
  {
   "cell_type": "code",
   "execution_count": 2,
   "id": "7b763caf",
   "metadata": {},
   "outputs": [
    {
     "name": "stdout",
     "output_type": "stream",
     "text": [
      "54\n"
     ]
    }
   ],
   "source": [
    "my_list = [8,9,12,15]\n",
    "print(sum(my_list,10)) # Adding 10 to the sum of the list"
   ]
  },
  {
   "cell_type": "code",
   "execution_count": 4,
   "id": "f4aad5d0",
   "metadata": {},
   "outputs": [
    {
     "name": "stdout",
     "output_type": "stream",
     "text": [
      "True\n",
      "False\n",
      "True\n",
      "False\n"
     ]
    }
   ],
   "source": [
    "# isinstance function\n",
    "x = 5\n",
    "my_list = [8,9,12,15]\n",
    "\n",
    "print(isinstance(x, int))  # Check if x is an integer\n",
    "print(isinstance(x, float))  # Check if x is a float\n",
    "print(isinstance(my_list, list))  # Check if my_list is a list\n",
    "print(isinstance(my_list, tuple))  # Check if my_list is a tuple\n"
   ]
  },
  {
   "cell_type": "code",
   "execution_count": 8,
   "id": "b32d3627",
   "metadata": {},
   "outputs": [
    {
     "name": "stdout",
     "output_type": "stream",
     "text": [
      "True\n",
      "False\n"
     ]
    }
   ],
   "source": [
    "x=5.4\n",
    "print(isinstance(x,(int,float)))  \n",
    "print(isinstance(x,str))  \n"
   ]
  },
  {
   "cell_type": "code",
   "execution_count": 11,
   "id": "5afba8f2",
   "metadata": {},
   "outputs": [
    {
     "name": "stdout",
     "output_type": "stream",
     "text": [
      "My name is John and age is 30\n",
      "My name is John and age is 30\n"
     ]
    }
   ],
   "source": [
    "name = \"John\"\n",
    "age = 30\n",
    "\n",
    "print(\"My name is\", name, \"and age is\", age)  # Using comma for formatting\n",
    "print(f\"My name is {name} and age is {age}\")  # Using f-string for formatting"
   ]
  },
  {
   "cell_type": "code",
   "execution_count": null,
   "id": "b10033d0",
   "metadata": {},
   "outputs": [],
   "source": []
  },
  {
   "cell_type": "code",
   "execution_count": 36,
   "id": "0e7059e6",
   "metadata": {},
   "outputs": [
    {
     "name": "stdout",
     "output_type": "stream",
     "text": [
      "red color BMW drive on 4 wheels.\n",
      "red color BMW is driving to office on 4 wheels.\n"
     ]
    }
   ],
   "source": [
    "class Car:\n",
    "    wheels = 4 # Class variable\n",
    "\n",
    "    def __init__(self, brand, color):\n",
    "        self.brand = brand\n",
    "        self.color = color\n",
    "\n",
    "    def display_info(self): #red color bmw drive on 4 wheels\n",
    "        print(f\"{self.color} color {self.brand} drive on {self.wheels} wheels.\")\n",
    "\n",
    "    def drive_to(self, destination): #red color bmw is driving to destination \n",
    "        print(f\"{self.color} color {self.brand} is driving to {destination} on {self.wheels} wheels.\")    \n",
    "\n",
    "# class ElectricCar: \n",
    "#     battery = 100 # Class variable    \n",
    "\n",
    "car_1 = Car(\"BMW\", \"red\") # Creating an instance of the Car class\n",
    "car_1.display_info()  \n",
    "car_1.drive_to(\"office\") "
   ]
  },
  {
   "cell_type": "code",
   "execution_count": 38,
   "id": "dbe33143",
   "metadata": {},
   "outputs": [
    {
     "name": "stdout",
     "output_type": "stream",
     "text": [
      "The area is 50 and the perimeter is 30\n"
     ]
    }
   ],
   "source": [
    "# you are ask to design a python class name rectangle that modules a rectangle using object oriented principles.the class\n",
    "# should be initialized with two parameters length and width. It must include a method area,that returns the area of the rectangle.\n",
    "# and another method get perimeter that returns it perimeter,Additionally implemented instance method name describe that calls both\n",
    "# area and get-perimeter methods and print a message in the format the area is x and the perimeter is y where x and y are the respective\n",
    "# value.\n",
    "# \n",
    "# create and object of the class  with length 10 and width 5 call the describe method to show the out put. \n",
    "\n",
    "class Rectangle:\n",
    "    def __init__(self, length, width):\n",
    "        self.length = length\n",
    "        self.width = width\n",
    "\n",
    "    def area(self):\n",
    "        return self.length * self.width\n",
    "\n",
    "    def perimeter(self):\n",
    "        return 2 * (self.length + self.width)\n",
    "\n",
    "    def describe(self):\n",
    "        area_value = self.area()\n",
    "        perimeter_value = self.perimeter()\n",
    "        print(f\"The area is {area_value} and the perimeter is {perimeter_value}\")\n",
    "\n",
    "\n",
    "\n",
    "rectangle_1 = Rectangle(10, 5)\n",
    "rectangle_1.describe()"
   ]
  },
  {
   "cell_type": "code",
   "execution_count": null,
   "id": "8efa8103",
   "metadata": {},
   "outputs": [],
   "source": []
  },
  {
   "cell_type": "code",
   "execution_count": null,
   "id": "d88e3fe6",
   "metadata": {},
   "outputs": [
    {
     "name": "stdout",
     "output_type": "stream",
     "text": [
      "['csev@umich.edu', 'cwen@iupui.edu']\n"
     ]
    }
   ],
   "source": []
  }
 ],
 "metadata": {
  "kernelspec": {
   "display_name": "Python 3",
   "language": "python",
   "name": "python3"
  },
  "language_info": {
   "codemirror_mode": {
    "name": "ipython",
    "version": 3
   },
   "file_extension": ".py",
   "mimetype": "text/x-python",
   "name": "python",
   "nbconvert_exporter": "python",
   "pygments_lexer": "ipython3",
   "version": "undefined.undefined.undefined"
  }
 },
 "nbformat": 4,
 "nbformat_minor": 5
}
