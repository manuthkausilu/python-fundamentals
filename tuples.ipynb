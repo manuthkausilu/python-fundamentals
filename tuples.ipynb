{
 "cells": [
  {
   "cell_type": "code",
   "execution_count": null,
   "id": "be15844e",
   "metadata": {},
   "outputs": [
    {
     "name": "stdout",
     "output_type": "stream",
     "text": [
      "('football', 'basketball', 'tennis', 'cricket', 'hockey')\n",
      "<class 'tuple'>\n",
      "football\n",
      "5\n"
     ]
    },
    {
     "ename": "TypeError",
     "evalue": "'tuple' object does not support item assignment",
     "output_type": "error",
     "traceback": [
      "\u001b[31m---------------------------------------------------------------------------\u001b[39m",
      "\u001b[31mTypeError\u001b[39m                                 Traceback (most recent call last)",
      "\u001b[36mCell\u001b[39m\u001b[36m \u001b[39m\u001b[32mIn[4]\u001b[39m\u001b[32m, line 8\u001b[39m\n\u001b[32m      5\u001b[39m \u001b[38;5;28mprint\u001b[39m(sports[\u001b[32m0\u001b[39m])  \u001b[38;5;66;03m# this is the first element\u001b[39;00m\n\u001b[32m      6\u001b[39m \u001b[38;5;28mprint\u001b[39m(\u001b[38;5;28mlen\u001b[39m(sports))  \u001b[38;5;66;03m# this is the length of the tuple\u001b[39;00m\n\u001b[32m----> \u001b[39m\u001b[32m8\u001b[39m \u001b[43msports\u001b[49m\u001b[43m[\u001b[49m\u001b[32;43m1\u001b[39;49m\u001b[43m]\u001b[49m = \u001b[33m\"\u001b[39m\u001b[33mbaseball\u001b[39m\u001b[33m\"\u001b[39m  \u001b[38;5;66;03m# this will raise an error because tuples are immutable\u001b[39;00m\n\u001b[32m      9\u001b[39m \u001b[38;5;28mprint\u001b[39m(sports[\u001b[32m1\u001b[39m])  \u001b[38;5;66;03m# this will not execute due to the error above\u001b[39;00m\n",
      "\u001b[31mTypeError\u001b[39m: 'tuple' object does not support item assignment"
     ]
    }
   ],
   "source": [
    "sports = (\"football\", \"basketball\", \"tennis\", \"cricket\", \"hockey\")\n",
    "\n",
    "print(sports) # display elements in the tuple\n",
    "print(type(sports))  # <class 'tuple'>\n",
    "print(sports[0])  # this is the first element\n",
    "print(len(sports))  # this is the length of the tuple\n",
    "\n",
    "sports[1] = \"baseball\"  # this will raise an error because tuples are immutable/imutable wenne aluthen add karannath ba ayin karannath ba\n",
    "print(sports[1])  # this will not execute due to the error above\n",
    "\n"
   ]
  },
  {
   "cell_type": "code",
   "execution_count": 10,
   "id": "62d93b7c",
   "metadata": {},
   "outputs": [
    {
     "name": "stdout",
     "output_type": "stream",
     "text": [
      "football\n",
      "<class 'str'>\n",
      "('football',)\n",
      "<class 'tuple'>\n"
     ]
    }
   ],
   "source": [
    "single = (\"football\")  # this is a single element  without a comma\n",
    "print(single)  # display the single element tuple \n",
    "print(type(single))  # <class 'String'>\n",
    "\n",
    "single = (\"football\",)  # this is a single element tuple with a comma\n",
    "print(single)  # display the single element tuple\n",
    "print(type(single))  # <class 'tuple'>\n",
    "\n"
   ]
  },
  {
   "cell_type": "code",
   "execution_count": 12,
   "id": "c48ebd5b",
   "metadata": {},
   "outputs": [
    {
     "name": "stdout",
     "output_type": "stream",
     "text": [
      "('football', 30, True, 'tennis')\n",
      "(30, True)\n",
      "(True, 'tennis', 'cricket')\n"
     ]
    }
   ],
   "source": [
    "my_tuple = (\"football\", 30, True, \"tennis\", \"cricket\")\n",
    "print(my_tuple[:4])  # this will display the first four elements\n",
    "print(my_tuple[1:3])  # this will display the second and third elements\n",
    "print(my_tuple[2:])  # this will display all elements from the third element onwards"
   ]
  },
  {
   "cell_type": "code",
   "execution_count": 19,
   "id": "b514efb1",
   "metadata": {},
   "outputs": [
    {
     "name": "stdout",
     "output_type": "stream",
     "text": [
      "['apple', 'banana', 'orange'] <class 'list'>\n",
      "('apple', 'grape', 'orange') <class 'tuple'>\n"
     ]
    }
   ],
   "source": [
    "my_tuple = (\"apple\", \"banana\", \"orange\")\n",
    "\n",
    "temp_list = list(my_tuple)  # convert tuple to list\n",
    "print(temp_list,type(temp_list))  # display the list and its type\n",
    "\n",
    "temp_list[1] = \"grape\"  # modify the second element\n",
    "my_tuple = tuple(temp_list)  # convert list back to tuple\n",
    "print(my_tuple,type(my_tuple))  # display the modified tuple and its type"
   ]
  },
  {
   "cell_type": "code",
   "execution_count": 22,
   "id": "6e4a1212",
   "metadata": {},
   "outputs": [
    {
     "name": "stdout",
     "output_type": "stream",
     "text": [
      "b\n",
      "((1, 2, 3), ('a', 'b', 'c'), (False, False))\n"
     ]
    }
   ],
   "source": [
    "nested_tuple = ((1,2,3),(\"a\",\"b\",\"c\"),(True,False))\n",
    "print(nested_tuple[1][1])  # this will display the second element of the second tuple\n",
    "\n",
    "temp_list = list(nested_tuple[2])  # convert the third tuple to a list  \n",
    "temp_list[0] = False  # modify the first element of the third tuple\n",
    "nested_tuple = (nested_tuple[0], nested_tuple[1], tuple(temp_list))  # convert the modified list back to a tuple\n",
    "print(nested_tuple)  # this will display the modified nested tuple\n",
    "\n"
   ]
  },
  {
   "cell_type": "code",
   "execution_count": null,
   "id": "37d0bfd6",
   "metadata": {},
   "outputs": [
    {
     "name": "stdout",
     "output_type": "stream",
     "text": [
      "{'hockey', 'basketball', 'football', 'cricket', 'tennis'}\n"
     ]
    }
   ],
   "source": [
    "sports = {\"tennis\", \"football\", \"cricket\", \"hockey\", \"basketball\"}  # this is a set\n",
    "print(sports)  # display elements in the set    "
   ]
  },
  {
   "cell_type": "code",
   "execution_count": 25,
   "id": "c2ad644b",
   "metadata": {},
   "outputs": [
    {
     "name": "stdout",
     "output_type": "stream",
     "text": [
      "{'banana', 'orange', 'grape', 'apple'}\n"
     ]
    }
   ],
   "source": [
    "fruits = {\"apple\", \"banana\", \"orange\"}  # this is another set\n",
    "fruits.add(\"grape\")  # add an element to the set\n",
    "print(fruits)  # display the modified set"
   ]
  },
  {
   "cell_type": "code",
   "execution_count": null,
   "id": "b2d33895",
   "metadata": {},
   "outputs": [
    {
     "name": "stdout",
     "output_type": "stream",
     "text": [
      "{'banana', 'cat', 'orange', 'dog', 'rabbit', 'apple'}\n"
     ]
    }
   ],
   "source": [
    "fruits = {\"apple\", \"banana\", \"orange\"}  # this is another set\n",
    "animals = {\"dog\", \"cat\", \"rabbit\"}  # this is another set\n",
    "\n",
    "fruits.update(animals)  # merge two sets\n",
    "print(fruits)  # display the merged set"
   ]
  },
  {
   "cell_type": "code",
   "execution_count": 27,
   "id": "009d5c45",
   "metadata": {},
   "outputs": [
    {
     "name": "stdout",
     "output_type": "stream",
     "text": [
      "{'orange', 'dog', 'banana', 'cat', 'rabbit', 'apple'}\n"
     ]
    }
   ],
   "source": [
    "fruits = {\"apple\", \"banana\", \"orange\"}  # this is another set\n",
    "animals = [\"dog\", \"cat\", \"rabbit\"]  # this is list\n",
    "\n",
    "fruits.update(animals)  # merge a set and a list\n",
    "\n",
    "print(fruits)  # display the merged set and list"
   ]
  },
  {
   "cell_type": "code",
   "execution_count": 28,
   "id": "bc2ecca2",
   "metadata": {},
   "outputs": [
    {
     "name": "stdout",
     "output_type": "stream",
     "text": [
      "{'hockey', 'basketball', 'criket'}\n"
     ]
    }
   ],
   "source": [
    "sports = {\"criket\", \"football\", \"hockey\", \"basketball\"}  # this is a set\n",
    "\n",
    "sports.remove(\"football\")  # remove an element from the set\n",
    "print(sports)  # display the modified set"
   ]
  },
  {
   "cell_type": "code",
   "execution_count": 30,
   "id": "49ca79bd",
   "metadata": {},
   "outputs": [
    {
     "name": "stdout",
     "output_type": "stream",
     "text": [
      "range(1, 7)\n",
      "<class 'range'>\n",
      "1\n",
      "2\n",
      "3\n",
      "4\n",
      "5\n",
      "6\n"
     ]
    }
   ],
   "source": [
    "range_1 = range(1,7,1)  # this is a range object\n",
    "print(range_1)  # display the range object\n",
    "print(type(range_1))  # <class 'range'>\n",
    "\n",
    "for i in range_1:  # iterate through the range object\n",
    "    print(i)  # display each element in the range object    \n"
   ]
  },
  {
   "cell_type": "code",
   "execution_count": 36,
   "id": "cca09075",
   "metadata": {},
   "outputs": [
    {
     "name": "stdout",
     "output_type": "stream",
     "text": [
      "3\n",
      "7\n",
      "11\n",
      "15\n",
      "19\n",
      "23\n"
     ]
    },
    {
     "ename": "IndexError",
     "evalue": "range object index out of range",
     "output_type": "error",
     "traceback": [
      "\u001b[31m---------------------------------------------------------------------------\u001b[39m",
      "\u001b[31mIndexError\u001b[39m                                Traceback (most recent call last)",
      "\u001b[36mCell\u001b[39m\u001b[36m \u001b[39m\u001b[32mIn[36]\u001b[39m\u001b[32m, line 8\u001b[39m\n\u001b[32m      6\u001b[39m \u001b[38;5;28mprint\u001b[39m(range_2[\u001b[32m4\u001b[39m])  \u001b[38;5;66;03m# display the fifth element\u001b[39;00m\n\u001b[32m      7\u001b[39m \u001b[38;5;28mprint\u001b[39m(range_2[\u001b[32m5\u001b[39m])  \u001b[38;5;66;03m# display the sixth element\u001b[39;00m\n\u001b[32m----> \u001b[39m\u001b[32m8\u001b[39m \u001b[38;5;28mprint\u001b[39m(\u001b[43mrange_2\u001b[49m\u001b[43m[\u001b[49m\u001b[32;43m6\u001b[39;49m\u001b[43m]\u001b[49m)  \u001b[38;5;66;03m# this will raise an error because there are only 6 elements in the range object / / IndexError: range object index out of range\u001b[39;00m\n",
      "\u001b[31mIndexError\u001b[39m: range object index out of range"
     ]
    }
   ],
   "source": [
    "range_2 = range(3,24,4)  # this is another range object\n",
    "print(range_2[0])  # display the first element\n",
    "print(range_2[1])  # display the second element \n",
    "print(range_2[2])  # display the third element\n",
    "print(range_2[3])  # display the fourth element\n",
    "print(range_2[4])  # display the fifth element\n",
    "print(range_2[5])  # display the sixth element\n",
    "print(range_2[6])  # this will raise an error because there are only 6 elements in the range object / / IndexError: range object index out of range"
   ]
  },
  {
   "cell_type": "code",
   "execution_count": null,
   "id": "c8dcaa19",
   "metadata": {},
   "outputs": [
    {
     "name": "stdout",
     "output_type": "stream",
     "text": [
      "5\n",
      "6\n",
      "7\n"
     ]
    }
   ],
   "source": [
    "range_3 = range(5,12)  # this is another range object // default step is 1\n",
    "print(range_3[0])  # display the first element\n",
    "print(range_3[1])  # display the second element\n",
    "print(range_3[2])  # display the third element"
   ]
  },
  {
   "cell_type": "code",
   "execution_count": 38,
   "id": "7a9521a3",
   "metadata": {},
   "outputs": [
    {
     "name": "stdout",
     "output_type": "stream",
     "text": [
      "<class 'dict'>\n",
      "{'name': 'John', 'age': 30, 'city': 'New York'}\n"
     ]
    }
   ],
   "source": [
    "this_dict = {\"name\": \"John\",\n",
    "            \"age\": 30,\n",
    "            \"city\": \"New York\"}  # this is a dictionary\n",
    "\n",
    "print(type(this_dict))  # <class 'dict'>\n",
    "print(this_dict)  # display the dictionary"
   ]
  },
  {
   "cell_type": "code",
   "execution_count": 49,
   "id": "99fb16a6",
   "metadata": {},
   "outputs": [
    {
     "name": "stdout",
     "output_type": "stream",
     "text": [
      "{'name': 'John', 'age': 30, 'city': 'London'}\n",
      "John\n",
      "30\n",
      "{'name': 'John', 'age': 31, 'city': 'London'}\n",
      "3\n",
      "dict_keys(['name', 'age', 'city'])\n",
      "dict_values(['John', 31, 'London'])\n",
      "{'name': 'John', 'age': 31, 'city': 'London', 'country': 'USA'}\n",
      "{'name': 'Kane', 'age': 31, 'city': 'London', 'country': 'USA', 'dateOfBirth': '1990-01-01'}\n",
      "{'name': 'Kane', 'age': 31, 'city': 'London', 'dateOfBirth': '1990-01-01'}\n",
      "{'name': 'Kane', 'age': 31, 'city': 'London'}\n"
     ]
    }
   ],
   "source": [
    "this_dict = {\"name\": \"John\",\n",
    "            \"age\": 30,\n",
    "            \"city\": \"New York\",\n",
    "            \"city\": \"London\"}  # this is a dictionary\n",
    "print(this_dict)  # display the dictionary with duplicate keys, the last value will be taken\n",
    "\n",
    "print(this_dict[\"name\"])  # display the value of the key \"name\"\n",
    "print(this_dict.get(\"age\")) # display the value of the key \"age\"  //me method dekenma element access karanna puluwn\n",
    "\n",
    "this_dict[\"age\"] = 31  # modify the value of the key \"age\"\n",
    "print(this_dict)  # display the modified dictionary\n",
    "print(len(this_dict))  # display the length of the dictionary\n",
    "print(this_dict.keys())  # display the keys of the dictionary\n",
    "print(this_dict.values())  # display the values of the dictionary\n",
    "\n",
    "this_dict[\"country\"] = \"USA\"  # add a new key-value pair to the dictionary\n",
    "print(this_dict)  # display the modified dictionary with the new key-value pair\n",
    "\n",
    "this_dict.update({\"dateOfBirth\": \"1990-01-01\",\"name\": \"Kane\"})  # update the dictionary with a new key-value pair and modify an existing key\n",
    "print(this_dict)  # display the modified dictionary with the new key-value pair\n",
    "\n",
    "this_dict.pop(\"country\")  # remove the key \"country\" from the dictionary\n",
    "print(this_dict)  # display the modified dictionary after removing the key \"country\"\n",
    "\n",
    "this_dict.popitem()  # remove the last key-value pair from the dictionary\n",
    "print(this_dict)  # display the modified dictionary after removing the last key-value pair"
   ]
  },
  {
   "cell_type": "code",
   "execution_count": null,
   "id": "f3559f31",
   "metadata": {},
   "outputs": [],
   "source": []
  },
  {
   "cell_type": "code",
   "execution_count": null,
   "id": "df77e1c0",
   "metadata": {},
   "outputs": [],
   "source": []
  },
  {
   "cell_type": "code",
   "execution_count": null,
   "id": "a2d90355",
   "metadata": {},
   "outputs": [],
   "source": []
  }
 ],
 "metadata": {
  "kernelspec": {
   "display_name": "Python 3",
   "language": "python",
   "name": "python3"
  },
  "language_info": {
   "codemirror_mode": {
    "name": "ipython",
    "version": 3
   },
   "file_extension": ".py",
   "mimetype": "text/x-python",
   "name": "python",
   "nbconvert_exporter": "python",
   "pygments_lexer": "ipython3",
   "version": "3.13.3"
  }
 },
 "nbformat": 4,
 "nbformat_minor": 5
}
