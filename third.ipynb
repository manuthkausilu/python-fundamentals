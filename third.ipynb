{
 "cells": [
  {
   "cell_type": "code",
   "execution_count": 7,
   "id": "f1906e73",
   "metadata": {},
   "outputs": [
    {
     "name": "stdout",
     "output_type": "stream",
     "text": [
      "10 is the largest number\n"
     ]
    }
   ],
   "source": [
    "#write a program to find the largest between three numbers.\n",
    "\n",
    "num_1 = 1\n",
    "num_2 = 10\n",
    "num_3 = 7\n",
    "\n",
    "if num_1 > num_2 and num_1 > num_3:\n",
    "    print(f\"{num_1} is the largest number\")\n",
    "elif num_2 > num_1 and num_2 > num_3:\n",
    "    print(f\"{num_2} is the largest number\")\n",
    "else:\n",
    "    print(f\"{num_3} is the largest number\")    "
   ]
  }
 ],
 "metadata": {
  "kernelspec": {
   "display_name": "Python 3",
   "language": "python",
   "name": "python3"
  },
  "language_info": {
   "codemirror_mode": {
    "name": "ipython",
    "version": 3
   },
   "file_extension": ".py",
   "mimetype": "text/x-python",
   "name": "python",
   "nbconvert_exporter": "python",
   "pygments_lexer": "ipython3",
   "version": "3.13.3"
  }
 },
 "nbformat": 4,
 "nbformat_minor": 5
}
