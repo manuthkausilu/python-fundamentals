{
 "cells": [
  {
   "cell_type": "code",
   "execution_count": 5,
   "id": "8b0cbe41",
   "metadata": {},
   "outputs": [
    {
     "name": "stdout",
     "output_type": "stream",
     "text": [
      "30\n"
     ]
    }
   ],
   "source": [
    "def add_numbers(a,b):\n",
    "    \"\"\"\n",
    "    This function adds two numbers.\n",
    "    \"\"\"\n",
    "    return a + b\n",
    "\n",
    "print(add_numbers(10,20))"
   ]
  },
  {
   "cell_type": "code",
   "execution_count": 41,
   "id": "75070b73",
   "metadata": {},
   "outputs": [
    {
     "name": "stdout",
     "output_type": "stream",
     "text": [
      "[1, 2, 6, 3, 4]\n"
     ]
    }
   ],
   "source": [
    "\"\"\" write a function remove duplicate(my_list) that return a list with duplicates removed(receving the original order)\n",
    "also you should write a few line of code to test the function\"\"\"\n",
    "\n",
    "def remove_duplicate(my_list):\n",
    "    unique_list = []\n",
    "    for item in my_list:\n",
    "        if item not in unique_list:\n",
    "            unique_list.append(item)\n",
    "    return unique_list\n",
    "\n",
    "print(remove_duplicate([1,1,2,6,3,1,4,6]))  "
   ]
  },
  {
   "cell_type": "code",
   "execution_count": 100,
   "id": "73f1ce54",
   "metadata": {},
   "outputs": [
    {
     "name": "stdout",
     "output_type": "stream",
     "text": [
      "2\n"
     ]
    }
   ],
   "source": [
    "\"\"\"write a function factorial(n) that returns the factorial of given number n.\"\"\"\n",
    "def factorial(n):\n",
    "    if n == 0:\n",
    "        return 1\n",
    "    \n",
    "    result = 1\n",
    "    for i in range(1, n + 1):\n",
    "         result *= i\n",
    "    return result\n",
    "    \n",
    "print(factorial(2)) "
   ]
  },
  {
   "cell_type": "code",
   "execution_count": 102,
   "id": "d07c541b",
   "metadata": {},
   "outputs": [
    {
     "name": "stdout",
     "output_type": "stream",
     "text": [
      "30\n",
      "20\n"
     ]
    },
    {
     "ename": "TypeError",
     "evalue": "add_numbers() takes from 1 to 2 positional arguments but 3 were given",
     "output_type": "error",
     "traceback": [
      "\u001b[31m---------------------------------------------------------------------------\u001b[39m",
      "\u001b[31mTypeError\u001b[39m                                 Traceback (most recent call last)",
      "\u001b[36mCell\u001b[39m\u001b[36m \u001b[39m\u001b[32mIn[102]\u001b[39m\u001b[32m, line 9\u001b[39m\n\u001b[32m      7\u001b[39m \u001b[38;5;28mprint\u001b[39m(add_numbers(\u001b[32m10\u001b[39m, \u001b[32m20\u001b[39m))\n\u001b[32m      8\u001b[39m \u001b[38;5;28mprint\u001b[39m(add_numbers(\u001b[32m12\u001b[39m))\n\u001b[32m----> \u001b[39m\u001b[32m9\u001b[39m \u001b[38;5;28mprint\u001b[39m(\u001b[43madd_numbers\u001b[49m\u001b[43m(\u001b[49m\u001b[32;43m9\u001b[39;49m\u001b[43m,\u001b[49m\u001b[32;43m3\u001b[39;49m\u001b[43m,\u001b[49m\u001b[32;43m7\u001b[39;49m\u001b[43m)\u001b[49m)\n\u001b[32m     10\u001b[39m \u001b[38;5;28mprint\u001b[39m(add_numbers())\n",
      "\u001b[31mTypeError\u001b[39m: add_numbers() takes from 1 to 2 positional arguments but 3 were given"
     ]
    }
   ],
   "source": [
    "def add_numbers(a, b=8):\n",
    "    \"\"\"\n",
    "    This function adds two numbers.\n",
    "    \"\"\"\n",
    "    return a + b\n",
    "\n",
    "print(add_numbers(10, 20))\n",
    "print(add_numbers(12))\n",
    "print(add_numbers(9,3,7)) #Error: add_numbers() takes from 1 to 2 positional arguments but 3 were given\n",
    "print(add_numbers()) #Error: add_numbers() missing 1 required positional argument: 'a' "
   ]
  },
  {
   "cell_type": "code",
   "execution_count": 103,
   "id": "140dd512",
   "metadata": {},
   "outputs": [
    {
     "name": "stdout",
     "output_type": "stream",
     "text": [
      "30\n",
      "20\n"
     ]
    }
   ],
   "source": [
    "#Default arguments can be used to provide a default value for a parameter.\n",
    "def add_numbers(a, b=8):\n",
    "    \"\"\"\n",
    "    This function adds two numbers.\n",
    "    \"\"\"\n",
    "    return a + b\n",
    "print(add_numbers(10, 20))  # Output: 30\n",
    "print(add_numbers(12))       # Output: 20 (b defaults to 8)"
   ]
  },
  {
   "cell_type": "code",
   "execution_count": 105,
   "id": "6ffd4d66",
   "metadata": {},
   "outputs": [
    {
     "name": "stdout",
     "output_type": "stream",
     "text": [
      "Name: Alice, Age: 30\n",
      "Name: Bob, Age: 25\n"
     ]
    }
   ],
   "source": [
    "#keyword arguments allow you to pass arguments by name, rather than position.\n",
    "\n",
    "def print_info(name, age):\n",
    "    print(f\"Name: {name}, Age: {age}\")\n",
    "\n",
    "\n",
    "print_info(name=\"Alice\", age=30)  # Output: Name: Alice, Age: 30\n",
    "print_info(age=25, name=\"Bob\")      # Output: Name: Bob, Age: 25"
   ]
  },
  {
   "cell_type": "code",
   "execution_count": 106,
   "id": "2af61ef5",
   "metadata": {},
   "outputs": [
    {
     "name": "stdout",
     "output_type": "stream",
     "text": [
      "9\n"
     ]
    }
   ],
   "source": [
    "# write a function that calculates and return the value of a number raised to a sert power.\n",
    "# The function should accept two arguments: the number and the asponent.If the asponent is not provided, it should calculate the square of the number.\n",
    "\n",
    "def power(number, exponent=2):\n",
    "    return number ** exponent\n",
    "\n",
    "# Testing the power function\n",
    "print(power(3))          # Output: 9 (3 squared)"
   ]
  },
  {
   "cell_type": "code",
   "execution_count": 113,
   "id": "40f1ce40",
   "metadata": {},
   "outputs": [
    {
     "name": "stdout",
     "output_type": "stream",
     "text": [
      "4500.0\n",
      "4950.0\n",
      "4250.0\n",
      "4400.0\n"
     ]
    }
   ],
   "source": [
    "# write a function that calculate employee next salary.\n",
    "# The function should accept based salaray,bonus(default is 0) and tax rate(default is 10%).\n",
    "# Demonstrate different ways of calling this function using positional and keyword arguments.\n",
    "\n",
    "def calculate_salary(base_salary, bonus=0, tax_rate=0.1):\n",
    "    \"\"\"\n",
    "    Calculate the next salary after applying bonus and tax.\n",
    "    \"\"\"\n",
    "    gross_salary = base_salary + bonus\n",
    "    net_salary = gross_salary * (1 - tax_rate)\n",
    "    return net_salary\n",
    "\n",
    "# Testing the calculate_salary function\n",
    "print(calculate_salary(5000))                # Using default bonus and tax rate\n",
    "print(calculate_salary(5000, bonus=500))     # Using default tax rate   \n",
    "print(calculate_salary(5000, tax_rate=0.15))  # Using default bonus\n",
    "print(calculate_salary(5000, bonus=500, tax_rate=0.2))  # Using both bonus and tax rate"
   ]
  },
  {
   "cell_type": "code",
   "execution_count": 115,
   "id": "64140671",
   "metadata": {},
   "outputs": [
    {
     "name": "stdout",
     "output_type": "stream",
     "text": [
      "<class 'tuple'>\n",
      "1\n",
      "2\n",
      "3\n",
      "hello\n",
      "[4, 5]\n"
     ]
    }
   ],
   "source": [
    "def arbitary_positional_args(*args):\n",
    "    \n",
    "    print(type(args))  # This will show that args is a tuple\n",
    "    \n",
    "    for arg in args:\n",
    "        print(arg)\n",
    "\n",
    "# Testing the function with arbitrary positional arguments\n",
    "arbitary_positional_args(1, 2, 3, \"hello\", [4, 5])"
   ]
  },
  {
   "cell_type": "code",
   "execution_count": 124,
   "id": "8ed978be",
   "metadata": {},
   "outputs": [
    {
     "name": "stdout",
     "output_type": "stream",
     "text": [
      "24\n"
     ]
    }
   ],
   "source": [
    "# write a function multiply_all() that accept any number of numbers and return their product.If no numbers are provided,\n",
    "# it should return 1.\n",
    "\n",
    "def multiply_all(*args):\n",
    "    if len(args) == 0:\n",
    "        return 1\n",
    "    \n",
    "    product = 1\n",
    "    for num in args:\n",
    "        product *= num\n",
    "    return product\n",
    "\n",
    "# Testing the multiply_all function\n",
    "print(multiply_all(2, 3, 4))  # Output: 24"
   ]
  },
  {
   "cell_type": "code",
   "execution_count": 148,
   "id": "a5557d9f",
   "metadata": {},
   "outputs": [
    {
     "name": "stdout",
     "output_type": "stream",
     "text": [
      "Please provide at least one number.\n"
     ]
    }
   ],
   "source": [
    "#write a function that accepts any number of numbers and returns the maximum number among them.do not use the built-in max() function.\n",
    "\n",
    "def find_maximum(*args):\n",
    "\n",
    "    if not args:\n",
    "        return \"Please provide at least one number.\"\n",
    "    \n",
    "    max_value = 0 \n",
    "\n",
    "    for num in args:\n",
    "        if num > max_value:\n",
    "            max_value = num\n",
    "    return max_value\n",
    "\n",
    "\n",
    "print(find_maximum(10,5,9))  "
   ]
  },
  {
   "cell_type": "code",
   "execution_count": null,
   "id": "628fab8b",
   "metadata": {},
   "outputs": [
    {
     "name": "stdout",
     "output_type": "stream",
     "text": [
      "name=Jhon\n",
      "age=30\n",
      "city=Colombo\n"
     ]
    }
   ],
   "source": [
    "def arbitary_keyword_args(**kwargs):\n",
    "\n",
    "    for key,value in kwargs.items():\n",
    "        print(f\"{key}={value}\")\n",
    "\n",
    "arbitary_keyword_args(name=\"Jhon\",age=30,city=\"Colombo\")        "
   ]
  },
  {
   "cell_type": "code",
   "execution_count": 188,
   "id": "9d4aeed7",
   "metadata": {},
   "outputs": [
    {
     "name": "stdout",
     "output_type": "stream",
     "text": [
      "name age city \n",
      "Alice 30 Horana \n",
      "Key :  city , Value :  Horana\n",
      "Key :  city , Value :  Horana\n",
      "Key :  city , Value :  Horana\n"
     ]
    }
   ],
   "source": [
    "my_dict = {\n",
    "    \"name\" : \"Alice\",\n",
    "    \"age\"  : \"30\",\n",
    "    \"city\" : \"Horana\"\n",
    "}\n",
    "\n",
    "\n",
    "for key in my_dict.keys():\n",
    "    print(key, end=\" \")\n",
    "\n",
    "print()    \n",
    "\n",
    "for value in my_dict.values():\n",
    "    print(value, end=\" \")   \n",
    "\n",
    "print()    \n",
    "\n",
    "for item in my_dict.items():\n",
    "    print(\"Key : \",key,\", Value : \",value)    \n"
   ]
  },
  {
   "cell_type": "code",
   "execution_count": 206,
   "id": "f6b7acdb",
   "metadata": {},
   "outputs": [
    {
     "name": "stdout",
     "output_type": "stream",
     "text": [
      "Student  S001 : Alice\n",
      "Student  S002 : Bob\n",
      "Student  S003 : Charlie\n",
      "Student  S004 : David\n",
      "Student  S005 : Eve\n"
     ]
    }
   ],
   "source": [
    "# you are developing a student management system ,\n",
    "#1.write a function add_students() with acept ant num of key arguments where keys are stu_id and  values are stu_names.\n",
    "#2.The function should store all student in to a dict\n",
    "#3.Write another function display students with acccept the dict and bring all stu_id and names in a need format\n",
    "\n",
    "#demostrate your function by adding at least five students using keyword arguments and display then. \n",
    "\n",
    "\n",
    "def add_students(**kwargs):\n",
    "    students = {}\n",
    "    for key, value in kwargs.items():\n",
    "        students[key] = value\n",
    "    return students\n",
    "\n",
    "\n",
    "def display_students(students):\n",
    "    for key,value in students.items():\n",
    "        print(\"Student \",key, \":\", value)\n",
    "\n",
    "\n",
    "students = add_students(\n",
    "              S001=\"Alice\",\n",
    "              S002=\"Bob\", \n",
    "              S003=\"Charlie\",\n",
    "              S004=\"David\",\n",
    "              S005=\"Eve\"\n",
    "            )\n",
    "display_students(students)"
   ]
  },
  {
   "cell_type": "markdown",
   "id": "d5fbccf9",
   "metadata": {},
   "source": [
    "# Python built in functions\n"
   ]
  },
  {
   "cell_type": "code",
   "execution_count": null,
   "id": "82e345ac",
   "metadata": {},
   "outputs": [
    {
     "name": "stdout",
     "output_type": "stream",
     "text": [
      "10\n",
      "5\n"
     ]
    }
   ],
   "source": [
    "#write a function that accepts a number and returns its absolute value.\n",
    "\n",
    "print(abs(-10))  # Output: 10\n",
    "print(abs(5))    # Output: 5"
   ]
  },
  {
   "cell_type": "code",
   "execution_count": 216,
   "id": "df56ded5",
   "metadata": {},
   "outputs": [
    {
     "name": "stdout",
     "output_type": "stream",
     "text": [
      "[1, 25, 64, 9]\n"
     ]
    }
   ],
   "source": [
    "def find_square(x):\n",
    "\treturn x ** 2\n",
    "\n",
    "my_list = [1, 5, 8, 3]\n",
    "\n",
    "squared_list = map(find_square, my_list)\n",
    "\n",
    "squared_list = list(squared_list)  # Convert map object to list\n",
    "\n",
    "print(squared_list)  # Output: [1, 25, 64, 9]"
   ]
  },
  {
   "cell_type": "code",
   "execution_count": 223,
   "id": "df24d272",
   "metadata": {},
   "outputs": [
    {
     "name": "stdout",
     "output_type": "stream",
     "text": [
      "[32.0, 68.0, 98.6, 212.0]\n"
     ]
    }
   ],
   "source": [
    "# write a function that convert a list of temperatures in Celsius to Fahrenheit,\n",
    "\n",
    "# To coversion you can use the formula: F = C * 9/5 + 32\n",
    "# use the map() function to apply the conversion.\n",
    "# function should return a list of Fahrenheit value.\n",
    "\n",
    "def convert_to_fahrenheit(celsius):\n",
    "        return celsius * 9/5 + 32\n",
    "\n",
    "def celsius_to_fahrenheit(celsius_list):\n",
    "    fahrenheit_list = map(convert_to_fahrenheit, celsius_list)\n",
    "    return list(fahrenheit_list)\n",
    "\n",
    "print(celsius_to_fahrenheit([0, 20, 37, 100])) "
   ]
  },
  {
   "cell_type": "code",
   "execution_count": 228,
   "id": "5f3bfd4e",
   "metadata": {},
   "outputs": [
    {
     "name": "stdout",
     "output_type": "stream",
     "text": [
      "[2, 4, 6]\n"
     ]
    }
   ],
   "source": [
    "# filter() function is used to filter elements from an iterable based on a condition.\n",
    "\n",
    "my_list = [1, 2, 3, 4, 5, 6]\n",
    "\n",
    "def is_even(num):\n",
    "    return num % 2 == 0\n",
    "\n",
    "even_list = filter(is_even, my_list)\n",
    "even_list = list(even_list)  # Convert filter object to list\n",
    "print(even_list)  # Output: [2, 4, 6]"
   ]
  },
  {
   "cell_type": "code",
   "execution_count": 230,
   "id": "7d405272",
   "metadata": {},
   "outputs": [
    {
     "name": "stdout",
     "output_type": "stream",
     "text": [
      "8\n"
     ]
    }
   ],
   "source": [
    "# lambda functions are small anonymous functions defined using the `lambda` keyword.\n",
    "\n",
    "add = lambda x, y : x + y\n",
    "\n",
    "print(add(5, 3))  # Output: 8  "
   ]
  },
  {
   "cell_type": "code",
   "execution_count": null,
   "id": "5ed027db",
   "metadata": {},
   "outputs": [
    {
     "name": "stdout",
     "output_type": "stream",
     "text": [
      "[24, 18, 16, 42, 60]\n"
     ]
    }
   ],
   "source": [
    "# given the following list use map with a lambda function to create a new list where each item is doubled.\n",
    "\n",
    "my_list = [12,9,8,21,30]\n",
    "print(list(map(lambda x : x * 2, my_list))) "
   ]
  },
  {
   "cell_type": "code",
   "execution_count": 236,
   "id": "c24d8243",
   "metadata": {},
   "outputs": [
    {
     "name": "stdout",
     "output_type": "stream",
     "text": [
      "[12, 8, 30]\n"
     ]
    }
   ],
   "source": [
    "# you are given the following list of integers.write a python program that uses the filter() function with a lambda function to \n",
    "# remove all odd numbers from the list.\n",
    "\n",
    "my_list = [12,9,8,21,30]\n",
    "print(list(filter(lambda x : x % 2 == 0, my_list))) "
   ]
  },
  {
   "cell_type": "code",
   "execution_count": null,
   "id": "9be0e202",
   "metadata": {},
   "outputs": [
    {
     "name": "stdout",
     "output_type": "stream",
     "text": [
      "10\n"
     ]
    }
   ],
   "source": [
    "# write a lambda function(don't use any built-in functions) to deside the maximum number between two numbers.\n",
    "\n",
    "max_num = lambda x,y : x if x > y else y\n",
    "print(max_num(10, 20)) "
   ]
  },
  {
   "cell_type": "code",
   "execution_count": null,
   "id": "22a491c0",
   "metadata": {},
   "outputs": [],
   "source": []
  }
 ],
 "metadata": {
  "kernelspec": {
   "display_name": "Python 3",
   "language": "python",
   "name": "python3"
  },
  "language_info": {
   "codemirror_mode": {
    "name": "ipython",
    "version": 3
   },
   "file_extension": ".py",
   "mimetype": "text/x-python",
   "name": "python",
   "nbconvert_exporter": "python",
   "pygments_lexer": "ipython3",
   "version": "3.13.3"
  }
 },
 "nbformat": 4,
 "nbformat_minor": 5
}
