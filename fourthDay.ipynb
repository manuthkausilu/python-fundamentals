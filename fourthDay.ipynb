{
 "cells": [
  {
   "cell_type": "code",
   "execution_count": null,
   "id": "8b0cbe41",
   "metadata": {},
   "outputs": [
    {
     "name": "stdout",
     "output_type": "stream",
     "text": [
      "30\n"
     ]
    }
   ],
   "source": [
    "def add_numbers(a,b):\n",
    "    \"\"\"\n",
    "    This function adds two numbers.\n",
    "    \"\"\"\n",
    "    return a + b\n",
    "\n",
    "print(add_numbers(10,20))"
   ]
  },
  {
   "cell_type": "code",
   "execution_count": 41,
   "id": "75070b73",
   "metadata": {},
   "outputs": [
    {
     "name": "stdout",
     "output_type": "stream",
     "text": [
      "[1, 2, 6, 3, 4]\n"
     ]
    }
   ],
   "source": [
    "\"\"\" write a function remove duplicate(my_list) that return a list with duplicates removed(receving the original order)\n",
    "also you should write a few line of code to test the function\"\"\"\n",
    "\n",
    "def remove_duplicate(my_list):\n",
    "    unique_list = []\n",
    "    for item in my_list:\n",
    "        if item not in unique_list:\n",
    "            unique_list.append(item)\n",
    "    return unique_list\n",
    "\n",
    "print(remove_duplicate([1,1,2,6,3,1,4,6]))  "
   ]
  },
  {
   "cell_type": "code",
   "execution_count": 100,
   "id": "73f1ce54",
   "metadata": {},
   "outputs": [
    {
     "name": "stdout",
     "output_type": "stream",
     "text": [
      "2\n"
     ]
    }
   ],
   "source": [
    "\"\"\"write a function factorial(n) that returns the factorial of given number n.\"\"\"\n",
    "def factorial(n):\n",
    "    if n == 0:\n",
    "        return 1\n",
    "    \n",
    "    result = 1\n",
    "    for i in range(1, n + 1):\n",
    "         result *= i\n",
    "    return result\n",
    "    \n",
    "print(factorial(2)) "
   ]
  },
  {
   "cell_type": "code",
   "execution_count": null,
   "id": "d07c541b",
   "metadata": {},
   "outputs": [
    {
     "name": "stdout",
     "output_type": "stream",
     "text": [
      "30\n",
      "20\n"
     ]
    },
    {
     "ename": "TypeError",
     "evalue": "add_numbers() takes from 1 to 2 positional arguments but 3 were given",
     "output_type": "error",
     "traceback": [
      "\u001b[31m---------------------------------------------------------------------------\u001b[39m",
      "\u001b[31mTypeError\u001b[39m                                 Traceback (most recent call last)",
      "\u001b[36mCell\u001b[39m\u001b[36m \u001b[39m\u001b[32mIn[102]\u001b[39m\u001b[32m, line 9\u001b[39m\n\u001b[32m      7\u001b[39m \u001b[38;5;28mprint\u001b[39m(add_numbers(\u001b[32m10\u001b[39m, \u001b[32m20\u001b[39m))\n\u001b[32m      8\u001b[39m \u001b[38;5;28mprint\u001b[39m(add_numbers(\u001b[32m12\u001b[39m))\n\u001b[32m----> \u001b[39m\u001b[32m9\u001b[39m \u001b[38;5;28mprint\u001b[39m(\u001b[43madd_numbers\u001b[49m\u001b[43m(\u001b[49m\u001b[32;43m9\u001b[39;49m\u001b[43m,\u001b[49m\u001b[32;43m3\u001b[39;49m\u001b[43m,\u001b[49m\u001b[32;43m7\u001b[39;49m\u001b[43m)\u001b[49m)\n\u001b[32m     10\u001b[39m \u001b[38;5;28mprint\u001b[39m(add_numbers())\n",
      "\u001b[31mTypeError\u001b[39m: add_numbers() takes from 1 to 2 positional arguments but 3 were given"
     ]
    }
   ],
   "source": [
    "def add_numbers(a, b=8):\n",
    "    \"\"\"\n",
    "    This function adds two numbers.\n",
    "    \"\"\"\n",
    "    return a + b\n",
    "\n",
    "print(add_numbers(10, 20))\n",
    "print(add_numbers(12))\n",
    "print(add_numbers(9,3,7)) #Error: add_numbers() takes from 1 to 2 positional arguments but 3 were given\n",
    "print(add_numbers()) #Error: add_numbers() missing 1 required positional argument: 'a' "
   ]
  },
  {
   "cell_type": "code",
   "execution_count": 103,
   "id": "140dd512",
   "metadata": {},
   "outputs": [
    {
     "name": "stdout",
     "output_type": "stream",
     "text": [
      "30\n",
      "20\n"
     ]
    }
   ],
   "source": [
    "#Default arguments can be used to provide a default value for a parameter.\n",
    "def add_numbers(a, b=8):\n",
    "    \"\"\"\n",
    "    This function adds two numbers.\n",
    "    \"\"\"\n",
    "    return a + b\n",
    "print(add_numbers(10, 20))  # Output: 30\n",
    "print(add_numbers(12))       # Output: 20 (b defaults to 8)"
   ]
  },
  {
   "cell_type": "code",
   "execution_count": null,
   "id": "6ffd4d66",
   "metadata": {},
   "outputs": [
    {
     "name": "stdout",
     "output_type": "stream",
     "text": [
      "Name: Alice, Age: 30\n",
      "Name: Bob, Age: 25\n"
     ]
    }
   ],
   "source": [
    "#keyword arguments allow you to pass arguments by name, rather than position.\n",
    "\n",
    "def print_info(name, age):\n",
    "    print(f\"Name: {name}, Age: {age}\")\n",
    "\n",
    "\n",
    "print_info(name=\"Alice\", age=30)  # Output: Name: Alice, Age: 30\n",
    "print_info(age=25, name=\"Bob\")      # Output: Name: Bob, Age: 25"
   ]
  },
  {
   "cell_type": "code",
   "execution_count": null,
   "id": "2af61ef5",
   "metadata": {},
   "outputs": [
    {
     "name": "stdout",
     "output_type": "stream",
     "text": [
      "9\n"
     ]
    }
   ],
   "source": [
    "# write a function that calculates and return the value of a number raised to a sert power.\n",
    "# The function should accept two arguments: the number and the asponent.If the asponent is not provided, it should calculate the square of the number.\n",
    "\n",
    "def power(number, exponent=2):\n",
    "    return number ** exponent\n",
    "\n",
    "# Testing the power function\n",
    "print(power(3))          # Output: 9 (3 squared)"
   ]
  },
  {
   "cell_type": "code",
   "execution_count": null,
   "id": "40f1ce40",
   "metadata": {},
   "outputs": [],
   "source": []
  },
  {
   "cell_type": "code",
   "execution_count": null,
   "id": "64140671",
   "metadata": {},
   "outputs": [],
   "source": []
  },
  {
   "cell_type": "code",
   "execution_count": null,
   "id": "8ed978be",
   "metadata": {},
   "outputs": [],
   "source": []
  },
  {
   "cell_type": "code",
   "execution_count": null,
   "id": "a5557d9f",
   "metadata": {},
   "outputs": [],
   "source": []
  },
  {
   "cell_type": "code",
   "execution_count": null,
   "id": "628fab8b",
   "metadata": {},
   "outputs": [],
   "source": []
  },
  {
   "cell_type": "code",
   "execution_count": null,
   "id": "9d4aeed7",
   "metadata": {},
   "outputs": [],
   "source": []
  }
 ],
 "metadata": {
  "kernelspec": {
   "display_name": "Python 3",
   "language": "python",
   "name": "python3"
  },
  "language_info": {
   "codemirror_mode": {
    "name": "ipython",
    "version": 3
   },
   "file_extension": ".py",
   "mimetype": "text/x-python",
   "name": "python",
   "nbconvert_exporter": "python",
   "pygments_lexer": "ipython3",
   "version": "3.13.3"
  }
 },
 "nbformat": 4,
 "nbformat_minor": 5
}
